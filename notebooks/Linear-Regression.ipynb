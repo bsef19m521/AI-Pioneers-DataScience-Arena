{
 "cells": [
  {
   "cell_type": "markdown",
   "metadata": {},
   "source": [
    "Introduction to Linear Regression"
   ]
  },
  {
   "cell_type": "markdown",
   "metadata": {},
   "source": [
    "# <span style='background :lightgreen' > A Journey from Variance, Covariance, Correlation to Regression </span>"
   ]
  },
  {
   "cell_type": "markdown",
   "metadata": {},
   "source": [
    "### a. Variance and Standard Deviation"
   ]
  },
  {
   "cell_type": "markdown",
   "metadata": {},
   "source": [
    "- `Variance` or `standard deviation` tells us how much a (single) quantity varies w.r.t. its mean 'OR' how spread out the data is around the center of the distribution (the mean).  \n",
    "- The value of variance doesn't give us any information, so we take its square root to calculate the `Standard Deviation` \n",
    "- It also gives you an idea of where, percentage wise, a certain value falls. For example, let’s say you took a test and it was normally distributed (shaped like a bell). You score one standard deviation above the mean. That tells you your score puts you in the top 84% of test takers.\n",
    "- Low standard deviation implies that most values are close to the mean. High standard deviation suggests that the values are more broadly spread out.\n",
    "\n",
    "<img align=\"left\" width=\"400\" height=\"300\"  src=\"images/std_dev.jpeg\"  >\n",
    "<img align=\"right\" width=\"400\" height=\"750\"  src=\"images/bellcurve.png\"  >"
   ]
  },
  {
   "cell_type": "code",
   "execution_count": 21,
   "metadata": {},
   "outputs": [],
   "source": [
    "import numpy as np\n",
    "import pandas as pd\n",
    "import seaborn as sns\n",
    "import matplotlib.pyplot as plt\n",
    "\n",
    "import math as m\n",
    "import statistics\n",
    "import scipy.stats as st\n",
    "import statsmodels as sm"
   ]
  },
  {
   "cell_type": "markdown",
   "metadata": {},
   "source": [
    "**Example 1**"
   ]
  },
  {
   "cell_type": "code",
   "execution_count": 22,
   "metadata": {},
   "outputs": [
    {
     "name": "stdout",
     "output_type": "stream",
     "text": [
      "Population Variance:  2.6666666666666665\n",
      "Sample Variance:  4.0\n",
      "Population Std Dev:  1.632993161855452\n",
      "Sample Std Dev:  2.0\n"
     ]
    }
   ],
   "source": [
    "data1 = [2, 4, 6]\n",
    "print(\"Population Variance: \", np.var(data1, ddof=0))  # use n degrees of freedom\n",
    "print(\"Sample Variance: \", np.var(data1, ddof=1))      # use n-1 degrees of freedom\n",
    "print(\"Population Std Dev: \", np.std(data1, ddof=0))   #((4+0+4)/3)**.5  # use n degrees of freedom\n",
    "print(\"Sample Std Dev: \", np.std(data1, ddof=1))       #((4+0+4)/2)**.5  # use n-1 degrees of freedoma"
   ]
  },
  {
   "cell_type": "code",
   "execution_count": null,
   "metadata": {},
   "outputs": [],
   "source": []
  },
  {
   "cell_type": "markdown",
   "metadata": {},
   "source": [
    "**Example 2**"
   ]
  },
  {
   "cell_type": "code",
   "execution_count": 23,
   "metadata": {},
   "outputs": [
    {
     "name": "stdout",
     "output_type": "stream",
     "text": [
      "Mean:  69.0\n",
      "Std Dev:  5.811865258054231\n",
      "Population Std Dev:  1.632993161855452\n",
      "Sample Std Dev:  2.0\n"
     ]
    }
   ],
   "source": [
    "data2 = [75, 69, 80, 70, 60, 63, 64, 69, 71]\n",
    "print(\"Mean: \", np.mean(data2))\n",
    "print(\"Std Dev: \", np.std(data2))\n",
    "print(\"Population Std Dev: \", np.std(data1, ddof=0))   #((4+0+4)/3)**.5  # use n degrees of freedom\n",
    "print(\"Sample Std Dev: \", np.std(data1, ddof=1))       #((4+0+4)/2)**.5  # use n-1 degrees of freedom"
   ]
  },
  {
   "cell_type": "code",
   "execution_count": null,
   "metadata": {},
   "outputs": [],
   "source": []
  },
  {
   "cell_type": "markdown",
   "metadata": {},
   "source": [
    ">**Low standard deviation implies that most values are close to the mean.**\n",
    "\n",
    ">**High standard deviation implies that the values are more broadly spread out.**\n"
   ]
  },
  {
   "cell_type": "code",
   "execution_count": null,
   "metadata": {},
   "outputs": [],
   "source": []
  },
  {
   "cell_type": "code",
   "execution_count": null,
   "metadata": {},
   "outputs": [],
   "source": []
  },
  {
   "cell_type": "code",
   "execution_count": null,
   "metadata": {},
   "outputs": [],
   "source": []
  },
  {
   "cell_type": "markdown",
   "metadata": {},
   "source": [
    "### b. Covariance\n",
    "- If we have two vectors of the same length, $x$ and $y$, where each element of $x$ is paired with the corresponding element of $y$, **covariance** provides a measure of how related the variables are to each other:\n",
    "$$ \\text{cov}(x, y) = \\frac{\\sum_{i=1}^n (x_i - \\bar{x})(y_i - \\bar{y}) }{n} $$\n",
    "\n",
    "- Covariance is used to measure as to how the mean values of two random variables move together. For example the height and weight of a person in a population. \n",
    "\n",
    "\n",
    "<img align=\"center\" width=\"500\" height=\"500\"  src=\"images/pnw_cov.png\"  >\n",
    " \n",
    "- The covariance value of two variables x and y can lie anywhere between negative infinity and positive infinity.\n",
    "- Covariance measures the direction of the relationship between two variables. \n",
    "    - `Positive covariance`: Indicates that two variables tend to move in the same direction.\n",
    "    - `Negative covariance`: Reveals that two variables tend to move in inverse directions.\n",
    "    - `Zero covarince`: Indicates that two variables have no relationship between each other.\n",
    "- **Covariance Matrix:** For multi-dimensional data, there applies a generalization of covariance in terms of a covariance matrix. The covariance matrix is also known as the variance-covariance matrix, as the **diagonal values of the covariance matrix show variances and the other values are the covariances**. The covariance matrix for two variables is a square matrix which can be written as follows:\n",
    "\n",
    "<img align=\"center\" width=\"300\" height=\"300\"  src=\"images/covmatrix.png\"  >"
   ]
  },
  {
   "cell_type": "markdown",
   "metadata": {},
   "source": [
    "**Example 1**"
   ]
  },
  {
   "cell_type": "code",
   "execution_count": 24,
   "metadata": {},
   "outputs": [
    {
     "data": {
      "text/plain": [
       "array([[157.86666667, 114.6       ],\n",
       "       [114.6       , 103.2       ]])"
      ]
     },
     "execution_count": 24,
     "metadata": {},
     "output_type": "execute_result"
    }
   ],
   "source": [
    "weight = [61,62,73,74,82,86]\n",
    "height = [157,168,170,181,191,185]\n",
    "np.cov(height, weight,ddof=1)     # sample variance along diagonal, and other values are covariances"
   ]
  },
  {
   "cell_type": "code",
   "execution_count": 25,
   "metadata": {},
   "outputs": [
    {
     "name": "stdout",
     "output_type": "stream",
     "text": [
      "Variance of height:  157.86666666666665\n",
      "Variance of weight:  103.2\n"
     ]
    },
    {
     "ename": "AttributeError",
     "evalue": "module 'statistics' has no attribute 'covariance'",
     "output_type": "error",
     "traceback": [
      "\u001b[0;31m---------------------------------------------------------------------------\u001b[0m",
      "\u001b[0;31mAttributeError\u001b[0m                            Traceback (most recent call last)",
      "Input \u001b[0;32mIn [25]\u001b[0m, in \u001b[0;36m<cell line: 4>\u001b[0;34m()\u001b[0m\n\u001b[1;32m      1\u001b[0m \u001b[38;5;28mprint\u001b[39m(\u001b[38;5;124m\"\u001b[39m\u001b[38;5;124mVariance of height: \u001b[39m\u001b[38;5;124m\"\u001b[39m, np\u001b[38;5;241m.\u001b[39mvar(height, ddof\u001b[38;5;241m=\u001b[39m\u001b[38;5;241m1\u001b[39m))      \u001b[38;5;66;03m# sample variance\u001b[39;00m\n\u001b[1;32m      2\u001b[0m \u001b[38;5;28mprint\u001b[39m(\u001b[38;5;124m\"\u001b[39m\u001b[38;5;124mVariance of weight: \u001b[39m\u001b[38;5;124m\"\u001b[39m, np\u001b[38;5;241m.\u001b[39mvar(weight, ddof\u001b[38;5;241m=\u001b[39m\u001b[38;5;241m1\u001b[39m))     \u001b[38;5;66;03m# sample variance\u001b[39;00m\n\u001b[0;32m----> 4\u001b[0m \u001b[38;5;28mprint\u001b[39m(\u001b[38;5;124m\"\u001b[39m\u001b[38;5;124mCovariance of weight, height: \u001b[39m\u001b[38;5;124m\"\u001b[39m, \u001b[43mstatistics\u001b[49m\u001b[38;5;241;43m.\u001b[39;49m\u001b[43mcovariance\u001b[49m(weight, height))\n\u001b[1;32m      5\u001b[0m \u001b[38;5;28mprint\u001b[39m(\u001b[38;5;124m\"\u001b[39m\u001b[38;5;124mCovariance of height, weight: \u001b[39m\u001b[38;5;124m\"\u001b[39m, statistics\u001b[38;5;241m.\u001b[39mcovariance(height, weight))\n",
      "\u001b[0;31mAttributeError\u001b[0m: module 'statistics' has no attribute 'covariance'"
     ]
    }
   ],
   "source": [
    "print(\"Variance of height: \", np.var(height, ddof=1))      # sample variance\n",
    "print(\"Variance of weight: \", np.var(weight, ddof=1))     # sample variance\n",
    "\n",
    "print(\"Covariance of weight, height: \", statistics.covariance(weight, height))\n",
    "print(\"Covariance of height, weight: \", statistics.covariance(height, weight))"
   ]
  },
  {
   "cell_type": "code",
   "execution_count": 26,
   "metadata": {},
   "outputs": [
    {
     "ename": "AttributeError",
     "evalue": "module 'statistics' has no attribute 'covariance'",
     "output_type": "error",
     "traceback": [
      "\u001b[0;31m---------------------------------------------------------------------------\u001b[0m",
      "\u001b[0;31mAttributeError\u001b[0m                            Traceback (most recent call last)",
      "Input \u001b[0;32mIn [26]\u001b[0m, in \u001b[0;36m<cell line: 6>\u001b[0;34m()\u001b[0m\n\u001b[1;32m      3\u001b[0m x \u001b[38;5;241m=\u001b[39m [\u001b[38;5;241m2\u001b[39m, \u001b[38;5;241m3\u001b[39m, \u001b[38;5;241m4\u001b[39m, \u001b[38;5;241m2\u001b[39m]\n\u001b[1;32m      4\u001b[0m y \u001b[38;5;241m=\u001b[39m [\u001b[38;5;241m3\u001b[39m, \u001b[38;5;241m5\u001b[39m, \u001b[38;5;241m9\u001b[39m, \u001b[38;5;241m0\u001b[39m]\n\u001b[0;32m----> 6\u001b[0m \u001b[38;5;28mprint\u001b[39m(\u001b[38;5;124m\"\u001b[39m\u001b[38;5;124mCovariance - \u001b[39m\u001b[38;5;124m\"\u001b[39m, \u001b[43mstatistics\u001b[49m\u001b[38;5;241;43m.\u001b[39;49m\u001b[43mcovariance\u001b[49m(x, y))\n",
      "\u001b[0;31mAttributeError\u001b[0m: module 'statistics' has no attribute 'covariance'"
     ]
    }
   ],
   "source": [
    "import statistics\n",
    "\n",
    "x = [2, 3, 4, 2]\n",
    "y = [3, 5, 9, 0]\n",
    "\n",
    "print(\"Covariance - \", statistics.covariance(x, y))"
   ]
  },
  {
   "cell_type": "code",
   "execution_count": null,
   "metadata": {},
   "outputs": [],
   "source": []
  },
  {
   "cell_type": "markdown",
   "metadata": {},
   "source": [
    ">- **Since the covariance is positive, so that means the two variables have a positive relationship**\n"
   ]
  },
  {
   "cell_type": "markdown",
   "metadata": {},
   "source": [
    "**Example 2**"
   ]
  },
  {
   "cell_type": "code",
   "execution_count": 27,
   "metadata": {},
   "outputs": [
    {
     "name": "stdout",
     "output_type": "stream",
     "text": [
      "Variance of Drug:  6.0\n",
      "Variance of Forgetfullness:  1.343621428571429\n"
     ]
    },
    {
     "ename": "AttributeError",
     "evalue": "module 'statistics' has no attribute 'covariance'",
     "output_type": "error",
     "traceback": [
      "\u001b[0;31m---------------------------------------------------------------------------\u001b[0m",
      "\u001b[0;31mAttributeError\u001b[0m                            Traceback (most recent call last)",
      "Input \u001b[0;32mIn [27]\u001b[0m, in \u001b[0;36m<cell line: 8>\u001b[0;34m()\u001b[0m\n\u001b[1;32m      5\u001b[0m \u001b[38;5;28mprint\u001b[39m(\u001b[38;5;124m\"\u001b[39m\u001b[38;5;124mVariance of Drug: \u001b[39m\u001b[38;5;124m\"\u001b[39m, np\u001b[38;5;241m.\u001b[39mvar(drug, ddof\u001b[38;5;241m=\u001b[39m\u001b[38;5;241m1\u001b[39m))                        \u001b[38;5;66;03m# sample variance\u001b[39;00m\n\u001b[1;32m      6\u001b[0m \u001b[38;5;28mprint\u001b[39m(\u001b[38;5;124m\"\u001b[39m\u001b[38;5;124mVariance of Forgetfullness: \u001b[39m\u001b[38;5;124m\"\u001b[39m, np\u001b[38;5;241m.\u001b[39mvar(forgetness, ddof\u001b[38;5;241m=\u001b[39m\u001b[38;5;241m1\u001b[39m))     \u001b[38;5;66;03m# sample variance\u001b[39;00m\n\u001b[0;32m----> 8\u001b[0m \u001b[38;5;28mprint\u001b[39m(\u001b[38;5;124m\"\u001b[39m\u001b[38;5;124mCovariance of drug, forgetfulness: \u001b[39m\u001b[38;5;124m\"\u001b[39m, \u001b[43mstatistics\u001b[49m\u001b[38;5;241;43m.\u001b[39;49m\u001b[43mcovariance\u001b[49m(drug, forgetness))\n\u001b[1;32m      9\u001b[0m \u001b[38;5;28mprint\u001b[39m(\u001b[38;5;124m\"\u001b[39m\u001b[38;5;124mCovariance of forgetfullness, drug: \u001b[39m\u001b[38;5;124m\"\u001b[39m, statistics\u001b[38;5;241m.\u001b[39mcovariance(drug, forgetness))\n",
      "\u001b[0;31mAttributeError\u001b[0m: module 'statistics' has no attribute 'covariance'"
     ]
    }
   ],
   "source": [
    "drug = np.array([0, 1, 2, 3, 4, 5, 6, 7.])                         # Drug dosage in ml\n",
    "forgetness = np.array([1.86, 1.31, .62, .33, .09, -.67, -1.23, -1.37])   # Level of forgetfullness\n",
    "np.cov(drug, forgetness)\n",
    "\n",
    "print(\"Variance of Drug: \", np.var(drug, ddof=1))                        # sample variance\n",
    "print(\"Variance of Forgetfullness: \", np.var(forgetness, ddof=1))     # sample variance\n",
    "\n",
    "print(\"Covariance of drug, forgetfulness: \", statistics.covariance(drug, forgetness))\n",
    "print(\"Covariance of forgetfullness, drug: \", statistics.covariance(drug, forgetness))"
   ]
  },
  {
   "cell_type": "code",
   "execution_count": null,
   "metadata": {},
   "outputs": [],
   "source": []
  },
  {
   "cell_type": "code",
   "execution_count": null,
   "metadata": {},
   "outputs": [],
   "source": []
  },
  {
   "cell_type": "markdown",
   "metadata": {},
   "source": [
    "### c. Correlation and Pearson's Correlation Coefficient\n",
    "- The value of Covariance range from negative infinity to positive infinity, so it tells us the direction and not the magnitude of relationship between two random variables. On the other hand the value of correlation coefficient range from -1 to +1, so it tells us the direction as well as the magnitude of relationship between the two variables.\n",
    "\n",
    "- Another difference between the two is that Covariance is affected by the change in scale. If all the values of one variable are multiplied by a constant and all the values of another variable are multiplied, by a similar or different constant, then the covariance is changed. On the other hand correlation is not affected by the change in scale.\n",
    "\n",
    "- For electricity generation using a windmill, if the speed of the wind turbine increases, the generation output will increase accordingly. Thus, the variable speed and electricity output have a positive correlation here.\n",
    "\n",
    "- The correlation coefficient is used to measure the strength of the relationship between two quantitative variables.\n",
    "\n",
    "- There are several types of correlation coefficients. The correlation coefficient (developed by Karl Pearson) denoted with $r$ or $\\rho$ is the most common and is defined by: \n",
    "$$ \\rho_{x,y} = \\frac{\\text{cov}(x,y)}{\\sigma_x \\sigma_y} $$\n",
    "\n",
    "- The following correlation graphs show the examples of different range of values for a correlation coefficient\n",
    "\n",
    "<img align=\"centre\" width=\"750\" height=\"700\"  src=\"images/poszeronegcor.png\"  >\n",
    "\n",
    "\n",
    "- **Correlation Matrix:** is a table showing correlation coefficients between various variables. The rows and columns contain the value of the variables, and each cell shows the correlation coefficient.\n",
    "<img align=\"center\" width=\"400\" height=\"400\"  src=\"images/correlation_matrix.png\"  >"
   ]
  },
  {
   "cell_type": "code",
   "execution_count": null,
   "metadata": {},
   "outputs": [],
   "source": []
  },
  {
   "cell_type": "markdown",
   "metadata": {},
   "source": [
    "**Example 1**"
   ]
  },
  {
   "cell_type": "code",
   "execution_count": 28,
   "metadata": {},
   "outputs": [
    {
     "name": "stdout",
     "output_type": "stream",
     "text": [
      "Correlation Matrix: \n",
      " [[1.         0.97571343]\n",
      " [0.97571343 1.        ]]\n"
     ]
    }
   ],
   "source": [
    "study = np.array([1, 2, 3, 4, 5, 6, 7.])               # study hours \n",
    "gpa = np.array([1.0, 1.3, 2.5, 2.6, 3.5, 3.7, 4.0])   # gpa\n",
    "\n",
    "print(\"Correlation Matrix: \\n\", np.corrcoef(study, gpa))\n",
    "\n"
   ]
  },
  {
   "cell_type": "code",
   "execution_count": 43,
   "metadata": {},
   "outputs": [],
   "source": [
    "#np.mean(study), np.std(study), np.mean(gpa), np.std(gpa)"
   ]
  },
  {
   "cell_type": "code",
   "execution_count": 29,
   "metadata": {},
   "outputs": [
    {
     "data": {
      "image/png": "[encoded data removed]",
      "text/plain": [
       "<Figure size 432x288 with 1 Axes>"
      ]
     },
     "metadata": {
      "needs_background": "light"
     },
     "output_type": "display_data"
    }
   ],
   "source": [
    "sns.scatterplot(x=study, y=gpa)\n",
    "plt.title(\"Study Hours vs GPA of Students\")\n",
    "plt.xlabel(\"Study Hours\")\n",
    "plt.ylabel(\"GPA\")\n",
    "plt.show()"
   ]
  },
  {
   "cell_type": "markdown",
   "metadata": {},
   "source": [
    "**Example 2**"
   ]
  },
  {
   "cell_type": "code",
   "execution_count": null,
   "metadata": {},
   "outputs": [],
   "source": []
  },
  {
   "cell_type": "code",
   "execution_count": null,
   "metadata": {},
   "outputs": [],
   "source": []
  },
  {
   "cell_type": "code",
   "execution_count": null,
   "metadata": {},
   "outputs": [],
   "source": []
  },
  {
   "cell_type": "code",
   "execution_count": 39,
   "metadata": {},
   "outputs": [
    {
     "name": "stdout",
     "output_type": "stream",
     "text": [
      "Correlation Matrix: \n",
      " [[ 1.         -0.99168672]\n",
      " [-0.99168672  1.        ]]\n"
     ]
    }
   ],
   "source": [
    "drug = np.array([0, 1, 2, 3, 4, 5, 6, 7.])                         # Drug dosage in ml\n",
    "forgetness = np.array([1.86, 1.31, .62, .33, .09, -.67, -1.23, -1.37])   # Level of forgetfullness\n",
    "\n",
    "print(\"Correlation Matrix: \\n\", np.corrcoef(drug, forgetness))\n",
    "\n",
    "\n"
   ]
  },
  {
   "cell_type": "code",
   "execution_count": 40,
   "metadata": {},
   "outputs": [
    {
     "data": {
      "image/png": "[encoded data removed]",
      "text/plain": [
       "<Figure size 432x288 with 1 Axes>"
      ]
     },
     "metadata": {
      "needs_background": "light"
     },
     "output_type": "display_data"
    }
   ],
   "source": [
    "sns.scatterplot(x=drug, y=forgetness)\n",
    "plt.title(\"Clinical Trial\")\n",
    "plt.xlabel(\"Drug dosage (mL)\")\n",
    "plt.ylabel(\"Forgetfulness\")\n",
    "plt.show()"
   ]
  },
  {
   "cell_type": "code",
   "execution_count": null,
   "metadata": {},
   "outputs": [],
   "source": []
  },
  {
   "cell_type": "code",
   "execution_count": null,
   "metadata": {},
   "outputs": [],
   "source": []
  },
  {
   "cell_type": "code",
   "execution_count": null,
   "metadata": {},
   "outputs": [],
   "source": []
  },
  {
   "cell_type": "markdown",
   "metadata": {},
   "source": [
    "### d. Regression\n",
    "\n",
    "<img align=\"right\" width=\"400\" height=\"400\"  src=\"images/corvsreg.jpeg\"  >\n",
    "\n",
    "**Correlation** lets us know the magnitude and direction of relationship between two random variables ‘x’ and ‘y’, while **Regression**, on the other hand, predicts the value of the dependent variable based on the known value of the independent variable, assuming that the average mathematical relationship between two or more variables.\n",
    "\n",
    "1. Regression can differentiate between `dependent` and `independent` variables, while correlation cannot. \n",
    "    - The variables study hours and drug dosage, that we plotted along horizontal axis are the independent variables or feature variables, or predictor variables.\n",
    "    - The variables GPA and forgetfullness, that we plotted along vertical axis are the dependent variables or the outcome variables.\n",
    "    \n",
    "\n",
    "2. Regression can measure `causality` as well, while correlation just tell the direction of movement between two variables. \n",
    "    - Causality tells us how one variable can impact or influance another variable. \n",
    "    - For example, the more drug you provide the less is the forgetfullness. We give the drug first and then check the forgetfulness. So there is a causal relationship from drug dosage to forgetfullness.\n",
    "\n",
    "\n",
    "\n",
    "3. Regression can measure the strength and direction of both linear as well as non-linear relationship between two variables, while correlation can do this for linear relationship only.\n",
    "\n",
    "\n",
    "4. The reg(x,y) and reg(y,x) are completely different, while the corr(x,y) and corr(y,x) are identical. \n",
    "\n",
    "\n",
    "5. The graphical representation of a correlation is a single point, while a line visualizes a linear regression (Correlation produces a single statistics, while regression produces a statistical model)."
   ]
  },
  {
   "cell_type": "markdown",
   "metadata": {},
   "source": [
    "**Example 1**"
   ]
  },
  {
   "cell_type": "code",
   "execution_count": 44,
   "metadata": {},
   "outputs": [
    {
     "data": {
      "image/png": "[encoded data removed]",
      "text/plain": [
       "<Figure size 432x288 with 1 Axes>"
      ]
     },
     "metadata": {
      "needs_background": "light"
     },
     "output_type": "display_data"
    }
   ],
   "source": [
    "study = np.array([1, 2, 3, 4, 5, 6, 7.])               # study hours \n",
    "gpa = np.array([1.0, 1.3, 2.5, 2.6, 3.5, 3.7, 4.0])   # gpa\n",
    "# plotting the regression line using regplot\n",
    "sns.regplot(x=study, y=gpa, ci=None, order=1)\n",
    "plt.title(\"Study Hours vs GPA of Students\")\n",
    "plt.xlabel(\"Study Hours\")\n",
    "plt.ylabel(\"GPA\")\n",
    "plt.show()"
   ]
  },
  {
   "cell_type": "code",
   "execution_count": null,
   "metadata": {},
   "outputs": [],
   "source": []
  },
  {
   "cell_type": "markdown",
   "metadata": {},
   "source": [
    "**Example 2**"
   ]
  },
  {
   "cell_type": "code",
   "execution_count": 45,
   "metadata": {},
   "outputs": [
    {
     "data": {
      "image/png": "[encoded data removed]",
      "text/plain": [
       "<Figure size 432x288 with 1 Axes>"
      ]
     },
     "metadata": {
      "needs_background": "light"
     },
     "output_type": "display_data"
    }
   ],
   "source": [
    "drug = np.array([0, 1, 2, 3, 4, 5, 6, 7.])                         # Drug dosage in ml\n",
    "forgetness = np.array([1.86, 1.31, .62, .33, .09, -.67, -1.23, -1.37])   # Level of forgetfullness\n",
    "# plotting the regression line using regplot\n",
    "sns.regplot(x=drug, y=forgetness, ci=None, order=1);\n",
    "plt.title(\"Clinical Trial\")\n",
    "plt.xlabel(\"Drug dosage (mL)\")\n",
    "plt.ylabel(\"Forgetfulness\")\n",
    "plt.show();"
   ]
  },
  {
   "cell_type": "code",
   "execution_count": null,
   "metadata": {},
   "outputs": [],
   "source": []
  },
  {
   "cell_type": "code",
   "execution_count": null,
   "metadata": {},
   "outputs": [],
   "source": []
  },
  {
   "cell_type": "code",
   "execution_count": null,
   "metadata": {},
   "outputs": [],
   "source": []
  },
  {
   "cell_type": "markdown",
   "metadata": {},
   "source": [
    "## Regression Analysis\n",
    "\n",
    "<img align=\"right\" width=\"550\" height=\"400\"  src=\"images/ml.PNG\"  >\n",
    "<img align=\"left\" width=\"425\" height=\"250\"  src=\"images/type.jpg\"  >\n"
   ]
  },
  {
   "cell_type": "code",
   "execution_count": null,
   "metadata": {},
   "outputs": [],
   "source": []
  },
  {
   "cell_type": "code",
   "execution_count": null,
   "metadata": {},
   "outputs": [],
   "source": []
  },
  {
   "cell_type": "markdown",
   "metadata": {},
   "source": [
    "## What is Linear Regression\n",
    "\n",
    "<br>\n",
    "<br>\n",
    "\n",
    "<img align=\"center\" width=\"400\" height=\"300\"  src=\"images/studyhours.png\"  >"
   ]
  },
  {
   "cell_type": "code",
   "execution_count": null,
   "metadata": {},
   "outputs": [],
   "source": []
  },
  {
   "cell_type": "markdown",
   "metadata": {},
   "source": [
    "<img align=\"center\" width=\"400\" height=\"300\"  src=\"images/equation.PNG\"  >\n"
   ]
  },
  {
   "cell_type": "code",
   "execution_count": null,
   "metadata": {},
   "outputs": [],
   "source": []
  },
  {
   "cell_type": "markdown",
   "metadata": {},
   "source": [
    "### <center> `A simple linear regression model is a mathematical equation that allows us to predict a response for a given predictor value.` </center>\n",
    "\n",
    "- The relationship between two variables can be represented by a simple equation called the regression equation. \n",
    "- The regression equation actually tells you, how much dependent/outcome variable `y` changes with any given change of independent/feature/predictor variable `x`.\n",
    "- The regression equation can be used to construct a regression line on a scatter diagram, and in the simplest case this is assumed to be a straight line. \n",
    "- The direction in which the line slopes depends on whether the correlation is positive or negative. "
   ]
  },
  {
   "cell_type": "code",
   "execution_count": null,
   "metadata": {},
   "outputs": [],
   "source": []
  },
  {
   "cell_type": "markdown",
   "metadata": {},
   "source": [
    "### a. How do we Fit a Line?\n",
    "(i) Let us try to understand the idea behind fitting the line. The linear regression algorithm first throws a random line, which slowly gets closer and closer to the points until it gets to the point that works.\n",
    "\n",
    "<img align=\"centre\" width=\"400\" height=\"300\"  src=\"images/line.PNG\"  >\n",
    "\n"
   ]
  },
  {
   "cell_type": "code",
   "execution_count": null,
   "metadata": {},
   "outputs": [],
   "source": []
  },
  {
   "cell_type": "code",
   "execution_count": null,
   "metadata": {},
   "outputs": [],
   "source": []
  },
  {
   "cell_type": "markdown",
   "metadata": {},
   "source": [
    "(ii) Let say, algorithm throws a random line and then starts asking to the points, \"What they want\", one by one. It picks a random point which says come closer. So it listens to it, and move the line a bit closer to that point. \n",
    "\n",
    "\n",
    "<img align=\"centre\" width=\"600\" height=\"300\"  src=\"images/line1.PNG\"  >\n",
    "\n"
   ]
  },
  {
   "cell_type": "code",
   "execution_count": null,
   "metadata": {},
   "outputs": [],
   "source": []
  },
  {
   "cell_type": "code",
   "execution_count": null,
   "metadata": {},
   "outputs": [],
   "source": []
  },
  {
   "cell_type": "markdown",
   "metadata": {},
   "source": [
    "(iii) And it repeats the process for every point, and many a times until we get the line which is best-fit for the data points.\n",
    "\n",
    "<img align=\"centre\" width=\"600\" height=\"300\"  src=\"images/line2.PNG\"  >\n",
    "\n"
   ]
  },
  {
   "cell_type": "code",
   "execution_count": null,
   "metadata": {},
   "outputs": [],
   "source": []
  },
  {
   "cell_type": "markdown",
   "metadata": {},
   "source": [
    "<img align=\"right\" width=\"300\" height=\"200\"  src=\"images/line3.PNG\"  >\n",
    "\n",
    "### b. How do we Move a Line Close to a Point?\n",
    "- Let say we have point and a line plotted on a graph and point says come closer. We have two parameters to define the movement of the line:\n",
    "    - `Slope (m)`: $=$ `rise`/`run` = `vertical distance` / `horizontal distance`\n",
    "    - `y-intercept (b)`: It tells how high the line touches the Y-axis (vertical distance)    \n",
    "- Thus, to move this line closer to the point we need to adjust the slope and y-intercept, and we can do two operations on them (increase or decrease)"
   ]
  },
  {
   "cell_type": "code",
   "execution_count": null,
   "metadata": {},
   "outputs": [],
   "source": []
  },
  {
   "cell_type": "code",
   "execution_count": null,
   "metadata": {},
   "outputs": [],
   "source": []
  },
  {
   "cell_type": "markdown",
   "metadata": {},
   "source": [
    "### c. Rotation and Translation\n",
    "\n",
    "#### (i) `Rotation`\n",
    "- Rotation means changing the `slope`. If we want to increase the slope rotate the line `counter clock-wise`. If we want to decrease the slope rotate the line in `clock-wise` direction. The point where the rotation happens is the point where the line interscets the y-axis and called `Pivot`.\n",
    "<img align=\"centre\" width=\"500\" height=\"400\"  src=\"images/line4.PNG\"  >\n",
    "\n",
    "#### (ii) `Translation`\n",
    "- Translation means changing the `y-intercept`. To move the line in upward direction, `increase the y-intercept`, and to move the line in downward direction, `decrease the y-intercept`.\n",
    "<img align=\"centre\" width=\"500\" height=\"400\"  src=\"images/line5.PNG\"  >"
   ]
  },
  {
   "cell_type": "code",
   "execution_count": null,
   "metadata": {},
   "outputs": [],
   "source": []
  },
  {
   "cell_type": "code",
   "execution_count": null,
   "metadata": {},
   "outputs": [],
   "source": []
  },
  {
   "cell_type": "markdown",
   "metadata": {},
   "source": [
    "### d. Correct Combination of Rotation and Translation\n",
    "- To move a line in four different regions, we need a correction combination of Rotation and Translation\n",
    "- So we have four cases:\n",
    "\n",
    "| Direction | Rotation | Translation |\n",
    "|-----------|----------|-------------|\n",
    "|Upward| Counter-clockwise (Increased Slope) | Translate line Up (Increased y-intercept) |\n",
    "|Downward| Clockwise (Decreased Slope) | Translate line down (Decreased y-intercept) |\n"
   ]
  },
  {
   "cell_type": "code",
   "execution_count": null,
   "metadata": {},
   "outputs": [],
   "source": []
  },
  {
   "cell_type": "code",
   "execution_count": null,
   "metadata": {},
   "outputs": [],
   "source": []
  },
  {
   "cell_type": "markdown",
   "metadata": {},
   "source": [
    "### e. How to Move the Line using Mathematical Model (Linear equation)\n",
    "\n",
    "<img align=\"right\" width=\"400\" height=\"300\"  src=\"images/p1.PNG\"  >\n",
    "\n",
    "- Let say, we have a point and a random line, and point says come closer. Let say tha slope of line is `m = 2`, and y-intercept is `c = 3`. Thus the linear equation of line will be:\n",
    "\n",
    "\n",
    "### <center> `y = 2x + 3` </center>\n",
    "    \n",
    "    \n",
    "- Now here is a very important rule of machine learning, that states: Never make drastic step, which means move the line by very tiny amount, beacuse we are going to move this many times, may be 1000 of times. So we are going to pick a very small number to multiply the equation with, which is called `Learning Rate`.\n",
    "\n",
    "\n",
    "\n",
    "- In machine learning and statistics, the learning rate is a tuning parameter in an optimization algorithm.\n",
    "\n",
    "\n",
    "\n",
    "- Let say we pick a very small number 0.01, now the second step is:\n",
    "    - add/subtract learning rate to slope (depending on the slope (counter-clockwise / clockwise) )\n",
    "    - add/subtract learning rate to y-intercept (depending on the translation (up/down) )"
   ]
  },
  {
   "cell_type": "code",
   "execution_count": null,
   "metadata": {},
   "outputs": [],
   "source": []
  },
  {
   "cell_type": "code",
   "execution_count": null,
   "metadata": {},
   "outputs": [],
   "source": []
  },
  {
   "cell_type": "markdown",
   "metadata": {},
   "source": [
    "### f. Linear Regression Algorithm `(Version 1)`\n",
    "- `Step 1`: Start with a Random line, and we perform several steps to fit this line better and better.\n",
    "\n",
    "\n",
    "- `Step 2`: In machine learing, we repeat a process many times to make it better, so second step is to pick a large number for repetitions or epochs (An epoch is a term used in machine learning and indicates the number of passes of the entire training dataset the machine learning algorithm has completed). So let say we pick a number 10000.\n",
    "\n",
    "\n",
    "\n",
    "- `Step 3`: Pick a small number or Learning Rate, let say 0.01.\n",
    "\n",
    "\n",
    "- `Step 4`: Now repeat the process 10000 times (loop). Following process we are going to repeat:\n",
    "\n",
    "    - Pick a Random point\n",
    "    - Move line towards point using this method:\n",
    "    \n",
    "               - If point above line, and to the right of y-axis\n",
    "                   - Rotate counter-clockwise and translate up which means\n",
    "                       - add 0.01 to slope\n",
    "                       - add 0.01 to y-intercept\n",
    "                 \n",
    "                 \n",
    "                \n",
    "               - If point above line, and to the left of y-axis\n",
    "                   - Rotate clockwise and translate up which means\n",
    "                       - subtract 0.01 to slope\n",
    "                       - add 0.01 to y-intercept\n",
    "                   \n",
    "                   \n",
    "               - If point below line, and to the right of y-axis\n",
    "                   - Rotate clockwise and translate down which means\n",
    "                       - subtract 0.01 to slope\n",
    "                       - subtract 0.01 to y-intercept\n",
    "                   \n",
    "                      \n",
    "               - If point below line, and to the left of y-axis\n",
    "                   - Rotate counter-clockwise and translate down which means\n",
    "                       - add 0.01 to slope\n",
    "                       - subtract 0.01 to y-intercept\n",
    "\n",
    " - `Step 5`: Enjoy the Best-fitted line ☺"
   ]
  },
  {
   "cell_type": "code",
   "execution_count": null,
   "metadata": {},
   "outputs": [],
   "source": []
  },
  {
   "cell_type": "code",
   "execution_count": null,
   "metadata": {},
   "outputs": [],
   "source": []
  },
  {
   "cell_type": "markdown",
   "metadata": {},
   "source": [
    "### g. Improved Linear Regression Algorithm `(Version 2)`\n",
    "\n",
    "<img align=\"right\" width=\"400\" height=\"400\"  src=\"images/p2.PNG\"  >\n",
    "\n",
    "In the above algorithm, we have four conditions based on which we perform the appropriate addition or subtraction operations on the slope and y-intercept values of the line. This algorithm aovids those four if...else conditions.\n",
    "\n",
    "- `Step 1`: Start with a Random line, and we perform several steps to fit this line better and better.\n",
    "\n",
    "\n",
    "- `Step 2`: In machine learing, we repeat a process many times to make it better, so second step is to pick a large number for repetitions or epochs. (An epoch is a term used in machine learning and indicates the number of passes of the entire training dataset the machine learning algorithm has completed). So let say we pick a number 1000.\n",
    "\n",
    "\n",
    "\n",
    "- `Step 3`: Pick a small number or Learning Rate, let say 0.01.\n",
    "\n",
    "\n",
    "- `Step 4`: Now repeat the process 1000 times (loop). Following process we are going to repeat:\n",
    "    - Pick a Random point\n",
    "    - Move line towards point using this method:\n",
    "        - Add (learning rate) x (vertical distance) x (horizontal distance) to slope\n",
    "        - Add (learning rate) x (vertical distance) to y-intercept\n",
    "\n",
    "- `Step 5`: Enjoy the Best-fitted line ☺"
   ]
  },
  {
   "cell_type": "code",
   "execution_count": null,
   "metadata": {},
   "outputs": [],
   "source": []
  },
  {
   "cell_type": "code",
   "execution_count": null,
   "metadata": {},
   "outputs": [],
   "source": []
  },
  {
   "cell_type": "markdown",
   "metadata": {},
   "source": [
    "> **Note:** This algorithm is the basic idea behind the trandional algorithms such as Gradient descent or square error algorithm that are mostly used for peforming linear regression in machine learning."
   ]
  },
  {
   "cell_type": "code",
   "execution_count": 46,
   "metadata": {},
   "outputs": [
    {
     "data": {
      "image/png": "[encoded data removed]",
      "text/plain": [
       "<Figure size 432x288 with 1 Axes>"
      ]
     },
     "metadata": {
      "needs_background": "light"
     },
     "output_type": "display_data"
    }
   ],
   "source": [
    "import seaborn as sns\n",
    "import numpy as np\n",
    "import pandas as pd\n",
    "import matplotlib.pyplot as plt\n",
    "\n",
    "X = np.array([1, 2, 3, 4, 5, 6, 7.])               # study hours \n",
    "Y = np.array([1.0, 1.3, 2.5, 2.6, 3.5, 3.7, 4.0])   # gpa\n",
    "# plotting the regression line using regplot\n",
    "sns.scatterplot(x=X, y=Y)\n",
    "plt.title(\"Study Hours vs GPA of Students\")\n",
    "plt.xlabel(\"Study Hours\")\n",
    "plt.ylabel(\"GPA\")\n",
    "plt.show()\n"
   ]
  },
  {
   "cell_type": "code",
   "execution_count": 62,
   "metadata": {},
   "outputs": [
    {
     "data": {
      "text/plain": [
       "array([0.9, 1.4, 1.9, 2.4, 2.9, 3.4, 3.9])"
      ]
     },
     "execution_count": 62,
     "metadata": {},
     "output_type": "execute_result"
    }
   ],
   "source": [
    "m = .5\n",
    "c = .4\n",
    "y_pred = m*X + c\n",
    "y_pred"
   ]
  },
  {
   "cell_type": "code",
   "execution_count": 63,
   "metadata": {},
   "outputs": [
    {
     "data": {
      "text/plain": [
       "0.12571428571428578"
      ]
     },
     "execution_count": 63,
     "metadata": {},
     "output_type": "execute_result"
    }
   ],
   "source": [
    "sum((y_pred - Y)**2)/len(X)"
   ]
  },
  {
   "cell_type": "code",
   "execution_count": 64,
   "metadata": {},
   "outputs": [
    {
     "data": {
      "text/plain": [
       "0.12571428571428578"
      ]
     },
     "execution_count": 64,
     "metadata": {},
     "output_type": "execute_result"
    }
   ],
   "source": [
    "sum((y_pred - Y)**2) / len(X)"
   ]
  },
  {
   "cell_type": "code",
   "execution_count": null,
   "metadata": {},
   "outputs": [],
   "source": []
  },
  {
   "cell_type": "code",
   "execution_count": null,
   "metadata": {},
   "outputs": [],
   "source": []
  },
  {
   "cell_type": "markdown",
   "metadata": {},
   "source": [
    "**Hypothesis Function**\n",
    "\n",
    "The hypothesis function for linear regression with one feature is given by:\n",
    "\n",
    "$$ \\mathbf{\\hat y =  h_\\theta(x) = \\theta_0 + \\theta_1 x}$$\n",
    "\n",
    "where $\\theta_0$ and $\\theta_1$ are the parameters of the model, and $x$ is the feature.\n",
    "\n",
    "\n",
    "<br>\n",
    "<br>\n",
    "\n",
    "**Cost Function**\n",
    "\n",
    "The cost function for linear regression with one feature is the mean squared error, given by:\n",
    "\n",
    "$$ \\mathbf{ J(\\theta_0, \\theta_1) = \\frac{1}{2m} \\sum_{i=1}^{m} (h_\\theta(x^{(i)}) - y^{(i)})^2}$$\n",
    "\n",
    "where $m$ is the number of training examples, $x^{(i)}$ is the $i$-th feature value, $y^{(i)}$ is the $i$-th target variable value.\n",
    "\n",
    "<br>\n",
    "<br>\n",
    "\n",
    "**Partial Derivative of Cost Function**\n",
    "\n",
    "The objective of gradient descent is to find the values of $\\theta_0$ and $\\theta_1$ that minimize the cost function $J(\\theta_0, \\theta_1)$. The update rule for gradient descent is:\n",
    "\n",
    "Repeat until convergence: {\n",
    "\n",
    "$$\\theta_0 = \\theta_0 - \\alpha \\frac{1}{m} \\sum_{i=1}^{m} (h_\\theta(x^{(i)}) - y^{(i)})$$\n",
    "\n",
    "$$\\theta_1 = \\theta_1 - \\alpha \\frac{1}{m} \\sum_{i=1}^{m} (h_\\theta(x^{(i)}) - y^{(i)})x^{(i)}$$\n",
    "\n",
    "}\n",
    "\n",
    "where **$\\alpha$** is the learning rate, which controls the size of the steps taken in each iteration of gradient descent. We repeat this update rule until convergence, which is achieved when the cost function $J(\\theta_0, \\theta_1)$ stops decreasing or reaches a minimum."
   ]
  },
  {
   "cell_type": "code",
   "execution_count": null,
   "metadata": {},
   "outputs": [],
   "source": []
  },
  {
   "cell_type": "code",
   "execution_count": 65,
   "metadata": {},
   "outputs": [
    {
     "name": "stdout",
     "output_type": "stream",
     "text": [
      "0.0025485714285714287 0.0005314285714285715\n",
      "0.005086523428571428 0.0010607120000000001\n",
      "0.007613900193828571 0.0015878592102857142\n",
      "0.010130745734256458 0.002112879089717166\n",
      "0.012637103876619087 0.0026357804887403883\n",
      "0.015133018265293046 0.0031565722209699163\n",
      "0.017618532363026525 0.0036752630633420593\n",
      "0.020093689451695172 0.004191861756267541\n",
      "0.022558532633054806 0.0047063770037835025\n",
      "0.025013104829490988 0.005218817473704874\n",
      "0.027457448784765488 0.005729191797775111\n",
      "0.029891607064759636 0.006237508571816316\n",
      "0.032315622058214574 0.006743776355878716\n",
      "0.03472953597746844 0.00724800367438954\n",
      "0.037133390859190485 0.007750199016301259\n",
      "0.03952722856511211 0.008250370835239218\n",
      "0.041911090782754894 0.008748527549648652\n",
      "0.044285019026155586 0.00924467754294109\n",
      "0.04664905463658804 0.009738829163640148\n",
      "0.04900323878328221 0.010230990725526721\n",
      "0.05134761246414009 0.010721170507783562\n",
      "0.05368221650644873 0.011209376755139265\n",
      "0.05600709156759025 0.01169561767801165\n",
      "0.0583222781357489 0.012179901452650547\n",
      "0.06062781653061522 0.01266223622127999\n",
      "0.06292374690408717 0.013142630092239812\n",
      "0.06521010924096846 0.013621091140126666\n",
      "0.0674869433596639 0.014097627405934437\n",
      "0.06975428891287193 0.01457224689719409\n",
      "0.07201218538827411 0.015044957588112926\n",
      "0.07426067210922195 0.015515767419713255\n",
      "0.07649978823542072 0.015984684299970506\n",
      "0.07872957276361049 0.016451716103950745\n",
      "0.08095006452824431 0.016916870673947638\n",
      "0.0831613022021636 0.017380155819618825\n",
      "0.08536332429727067 0.01784157931812174\n",
      "0.08755616916519852 0.01830114891424887\n",
      "0.08973987499797775 0.018758872320562434\n",
      "0.09191447982870082 0.01921475721752851\n",
      "0.09408002153218342 0.019668811253650616\n",
      "0.09623653782562319 0.02012104204560271\n",
      "0.09838406626925565 0.020571457178361664\n",
      "0.10052264426700737 0.021020064205339157\n",
      "0.1026523090671465 0.021466870648513055\n",
      "0.10477309776293052 0.021911883998558205\n",
      "0.10688504729325138 0.02235511171497672\n",
      "0.10898819444327781 0.022796561226227696\n",
      "0.11108257584509515 0.0232362399298564\n",
      "0.1131682279783423 0.023674155192622923\n",
      "0.11524518717084627 0.024110314350630296\n",
      "0.1173134895992538 0.024544724709452063\n",
      "0.11937317128966066 0.024977393544259343\n",
      "0.12142426811823803 0.025408328099947333\n",
      "0.12346681581185655 0.025837535591261323\n",
      "0.12550084994870753 0.026265023202922157\n",
      "0.12752640595892178 0.026690798089751177\n",
      "0.12954351912518572 0.027114867376794662\n",
      "0.13155222458335497 0.027537238159447724\n",
      "0.13355255732306542 0.027957917503577723\n",
      "0.13554455218834172 0.028376912445647128\n",
      "0.13752824387820325 0.028794229992835894\n",
      "0.1395036669472676 0.029209877123163336\n",
      "0.14147085580635144 0.02962386078560946\n",
      "0.14342984472306897 0.03003618790023583\n",
      "0.14538066782242792 0.0304468653583059\n",
      "0.147323359087423 0.030855900022404868\n",
      "0.1492579523596268 0.03126329872655902\n",
      "0.15118448133977846 0.03166906827635458\n",
      "0.1531029795883697 0.03207321544905606\n",
      "0.1550134805262284 0.032475746993724124\n",
      "0.15691601743509995 0.03287666963133297\n",
      "0.1588106234582259 0.0332759900548872\n",
      "0.16069733160092053 0.03367371492953821\n",
      "0.16257617473114466 0.034069850892700135\n",
      "0.16444718558007734 0.03446440455416525\n",
      "0.16631039674268513 0.034857382496218926\n",
      "0.16816584067828885 0.035248791273754104\n",
      "0.17001354971112811 0.03563863741438529\n",
      "0.17185355603092353 0.03602692741856208\n",
      "0.17368589169343643 0.0364136677596822\n",
      "0.17551058862102636 0.036798864884204086\n",
      "0.17732767860320633 0.03718252521175899\n",
      "0.17913719329719552 0.03756465513526265\n",
      "0.18093916422846995 0.03794526102102641\n",
      "0.18273362279131067 0.038324349208868\n",
      "0.18452060024934977 0.03870192601222175\n",
      "0.186300127736114 0.039077997718248395\n",
      "0.18807223625556638 0.03945257058794442\n",
      "0.1898369566826452 0.03982565085625095\n",
      "0.19159431976380104 0.04019724473216216\n",
      "0.19334435611753154 0.040567358398833256\n",
      "0.19508709623491377 0.04093599801368804\n",
      "0.1968225704801346 0.04130316970852594\n",
      "0.19855080909101866 0.0416688795896287\n",
      "0.20027184217955432 0.04203313373786653\n",
      "0.20198569973241723 0.042395938208803885\n",
      "0.20369241161149196 0.042757299032804764\n",
      "0.2053920075543912 0.04311722221513758\n",
      "0.20708451717497295 0.043475713736079606\n",
      "0.20876996996385563 0.04383277955102098\n",
      "0.21044839528893083 0.044188425590568264\n",
      "0.2121198223958741 0.04454265776064758\n",
      "0.21378428040865352 0.04489548194260732\n",
      "0.21544179833003624 0.045246903993320445\n",
      "0.21709240504209287 0.04559692974528632\n",
      "0.2187361293066997 0.04594556500673216\n",
      "0.22037299976603894 0.046292815561714024\n",
      "0.22200304494309683 0.04663868717021742\n",
      "0.2236262932421597 0.04698318556825747\n",
      "0.2252427729493079 0.04732631646797866\n",
      "0.2268525122329077 0.04766808555775419\n",
      "0.2284555391441013 0.048008498502284884\n",
      "0.2300518816172945 0.048347560942697716\n",
      "0.2316415674706426 0.04868527849664391\n",
      "0.23322462440653413 0.04902165675839664\n",
      "0.2348010800120727 0.049356701298948306\n",
      "0.23637096175955669 0.04969041766610743\n",
      "0.237934297006957 0.050022811384595134\n",
      "0.23949111299839293 0.05035388795614122\n",
      "0.24104143686460588 0.05068365285957985\n",
      "0.24258529562343123 0.051012111550944816\n",
      "0.24412271618026818 0.05133926946356445\n",
      "0.24565372532854768 0.051665132008156096\n",
      "0.2471783497501984 0.051989704572920195\n",
      "0.2486966160161107 0.05231299252363402\n",
      "0.2502085505865988 0.05263500120374498\n",
      "0.25171417981186084 0.052955735934463524\n",
      "0.25321352993243723 0.053275202014855715\n",
      "0.254706627079667 0.05359340472193536\n",
      "0.2561934972761422 0.05391034931075581\n",
      "0.2576741664361605 0.05422604101450132\n",
      "0.2591486603661757 0.05454048504457806\n",
      "0.26061700476524674 0.054853686590704775\n",
      "0.2620792252254846 0.055165650821003005\n",
      "0.2635353472324973 0.05547638288208699\n",
      "0.26498539616583305 0.05578588789915315\n",
      "0.26642939729942183 0.056094170976069224\n",
      "0.2678673758020147 0.05640123719546304\n",
      "0.2692993567376217 0.056707091618810906\n",
      "0.2707253650659476 0.05701173928652562\n",
      "0.272145425642826 0.05731518521804413\n",
      "0.2735595632206517 0.05761743441191483\n",
      "0.274967802448811 0.0579184918458845\n",
      "0.2763701678741105 0.05821836247698484\n",
      "0.2777666839412039 0.05851705124161873\n",
      "0.27915737499301724 0.058814563055646016\n",
      "0.2805422652711721 0.05911090281446905\n",
      "0.2819213789164073 0.05940607539311779\n",
      "0.28329473996899857 0.05970008564633461\n",
      "0.2846623723691769 0.059992938408658714\n",
      "0.2860242999575447 0.06028463849451021\n",
      "0.28738054647549033 0.06057519069827384\n",
      "0.28873113556560115 0.060864599794382364\n",
      "0.2900760907720747 0.06115287053739958\n",
      "0.2914154355411279 0.061440007662103016\n",
      "0.29274919322140514 0.061726015883566264\n",
      "0.2940773870643841 0.062010899897241\n",
      "0.29540004022478017 0.06229466437903861\n",
      "0.29671717576094925 0.06257731398541155\n",
      "0.2980288166352886 0.06285885335343429\n",
      "0.2993349857146361 0.06313928710088394\n",
      "0.3006357057706683 0.06341861982632063\n",
      "0.301930999480296 0.06369685610916741\n",
      "0.3032208894260589 0.06397400050978991\n",
      "0.3045053980965183 0.06425005756957568\n",
      "0.305784547886648 0.06452503181101311\n",
      "0.30705836109822404 0.06479892773777017\n",
      "0.30832685994021236 0.06507174983477261\n",
      "0.3095900665291551 0.06534350256828206\n",
      "0.3108480028895553 0.06561419038597364\n",
      "0.3121006909542597 0.06588381771701338\n",
      "0.31334815256484044 0.06615238897213514\n",
      "0.3145904094719748 0.06641990854371742\n",
      "0.3158274833358234 0.06668638080585966\n",
      "0.31705939572640685 0.0669518101144584\n",
      "0.3182861681239811 0.06721620080728295\n",
      "0.31950782191941074 0.06747955720405088\n",
      "0.32072437841454127 0.06774188360650311\n",
      "0.3219358588225693 0.06800318429847875\n",
      "0.3231422842684117 0.06826346354598957\n",
      "0.3243436757890727 0.0685227255972942\n",
      "0.32554005433401 0.06878097468297206\n",
      "0.32673144076549904 0.06903821501599683\n",
      "0.3279178558589957 0.0692944507918098\n",
      "0.3290993203034977 0.06954968618839281\n",
      "0.3302758547019044 0.0698039253663409\n",
      "0.33144747957137516 0.07005717246893468\n",
      "0.33261421534368596 0.07030943162221237\n",
      "0.33377608236558487 0.07056070693504155\n",
      "0.3349331008991459 0.07081100249919065\n",
      "0.3360852911221214 0.07106032238940006\n",
      "0.3372326731282928 0.07130867066345306\n",
      "0.3383752669278203 0.07155605136224631\n",
      "0.33951309244759065 0.07180246850986018\n",
      "0.34064616953156385 0.0720479261136287\n",
      "0.34177451794111813 0.07229242816420929\n",
      "0.3428981573553937 0.07253597863565213\n",
      "0.34401710737163504 0.07277858148546926\n",
      "0.3451313875055316 0.07302024065470343\n",
      "0.3462410171915571 0.07326096006799664\n",
      "0.34734601578330787 0.07350074363365837\n",
      "0.34844640255383913 0.07373959524373357\n",
      "0.34954219669600023 0.07397751877407031\n",
      "0.3506334173227684 0.07421451808438727\n",
      "0.35172008346758127 0.07445059701834075\n",
      "0.3528022140846677 0.0746857594035916\n",
      "0.3538798280493776 0.07492000905187171\n",
      "0.35495294415851003 0.0751533497590504\n",
      "0.3560215811306402 0.07538578530520035\n",
      "0.3570857576064449 0.07561731945466336\n",
      "0.3581454921490268 0.07584795595611585\n",
      "0.35920080324423725 0.07607769854263398\n",
      "0.36025170930099765 0.07630655093175863\n",
      "0.3612982286516197 0.07653451682556005\n",
      "0.3623403795521242 0.07676159991070221\n",
      "0.3633781801825586 0.07698780385850694\n",
      "0.36441164864731296 0.07721313232501777\n",
      "0.36544080297543513 0.07743758895106348\n",
      "0.366465661120944 0.07766117736232149\n",
      "0.36748624096314175 0.07788390116938085\n",
      "0.36850256030692513 0.07810576396780503\n",
      "0.3695146368830946 0.07832676933819449\n",
      "0.3705224883486631 0.07854692084624895\n",
      "0.37152613228716286 0.07876622204282935\n",
      "0.3725255862089514 0.07898467646401962\n",
      "0.37352086755151576 0.07920228763118822\n",
      "0.37451199367977617 0.07941905905104935\n",
      "0.37549898188638764 0.07963499421572388\n",
      "0.37648184939204093 0.0798500966028002\n",
      "0.377460613345762 0.08006436967539457\n",
      "0.37843529082521005 0.08027781688221146\n",
      "0.37940589883697484 0.08049044165760343\n",
      "0.3803724543168723 0.0807022474216309\n",
      "0.3813349741302389 0.08091323758012164\n",
      "0.3822934750722253 0.08112341552473\n",
      "0.383247973868088 0.08133278463299584\n",
      "0.3841984871734807 0.08154134826840334\n",
      "0.3851450315747435 0.08174910978043945\n",
      "0.38608762358919163 0.08195607250465214\n",
      "0.3870262796654026 0.08216223976270844\n",
      "0.38796101618350226 0.08236761486245214\n",
      "0.38889184945544975 0.08257220109796143\n",
      "0.389818795725321 0.08277600174960605\n",
      "0.39074187116959147 0.08297902008410443\n",
      "0.39166109189741727 0.08318125935458051\n",
      "0.3925764739509154 0.08338272280062023\n",
      "0.39348803330544263 0.08358341364832794\n",
      "0.3943957858698736 0.0837833351103825\n",
      "0.39529974748687724 0.0839824903860931\n",
      "0.3961999339331923 0.08418088266145494\n",
      "0.3970963609199018 0.08437851510920467\n",
      "0.39798904409270625 0.08457539088887549\n",
      "0.39887799903219573 0.08477151314685212\n",
      "0.3997632412541209 0.08496688501642556\n",
      "0.4006447862096627 0.08516150961784755\n",
      "0.4015226492857012 0.08535539005838481\n",
      "0.4023968458050831 0.08554852943237315\n",
      "0.4032673910268883 0.08574093082127118\n",
      "0.40413430014669516 0.08593259729371398\n",
      "0.40499758829684485 0.08612353190556646\n",
      "0.40585727054670445 0.08631373769997644\n",
      "0.40671336190292906 0.08650321770742765\n",
      "0.4075658773097228 0.0866919749457924\n",
      "0.40841483164909875 0.08688001242038403\n",
      "0.40926023974113745 0.08706733312400924\n",
      "0.41010211634424515 0.0872539400370201\n",
      "0.41094047615540996 0.08743983612736587\n",
      "0.41177533381045783 0.08762502435064465\n",
      "0.4126067038843069 0.08780950765015473\n",
      "0.413434600891221 0.08799328895694583\n",
      "0.414259039285062 0.08817637118987004\n",
      "0.4150800334595413 0.08835875725563258\n",
      "0.41589759774847007 0.0885404500488424\n",
      "0.41671174642600856 0.08872145245206242\n",
      "0.4175224937069143 0.08890176733585978\n",
      "0.4183298537467894 0.08908139755885565\n",
      "0.41913384064232656 0.08926034596777502\n",
      "0.41993446843155446 0.08943861539749617\n",
      "0.4207317510940817 0.0896162086711\n",
      "0.4215257025513399 0.08979312859991909\n",
      "0.42231633666682605 0.0899693779835866\n",
      "0.4231036672463433 0.090144959610085\n",
      "0.4238877080382413 0.09031987625579448\n",
      "0.4246684727336551 0.0904941306855413\n",
      "0.42544597496674347 0.09066772565264583\n",
      "0.4262202283149258 0.09084066389897048\n",
      "0.42699124629911833 0.09101294815496733\n",
      "0.42775904238396933 0.0911845811397256\n",
      "0.4285236299780931 0.09135556556101906\n",
      "0.4292850224343034 0.09152590411535295\n",
      "0.4300432330498453 0.09169559948801101\n",
      "0.43079827506662693 0.09186465435310211\n",
      "0.4315501616714494 0.09203307137360675\n",
      "0.4322989059962361 0.09220085320142345\n",
      "0.43304452111826147 0.09236800247741475\n",
      "0.43378702006037795 0.09253452183145323\n",
      "0.4345264157912427 0.0927004138824672\n",
      "0.43526272122554316 0.09286568123848629\n",
      "0.43599594922422164 0.09303032649668673\n",
      "0.43672611259469885 0.09319435224343658\n",
      "0.4374532240910967 0.09335776105434071\n",
      "0.4381772964144603 0.09352055549428553\n",
      "0.43889834221297847 0.09368273811748368\n",
      "0.439616374082204 0.09384431146751837\n",
      "0.4403314045652726 0.09400527807738768\n",
      "0.441043446153121 0.09416564046954855\n",
      "0.44175251128470433 0.0943254011559607\n",
      "0.4424586123472122 0.09448456263813032\n",
      "0.44316176167628424 0.0946431274071535\n",
      "0.4438619715562248 0.09480109794375961\n",
      "0.4445592542202163 0.09495847671835446\n",
      "0.4452536218505322 0.09511526619106318\n",
      "0.44594508657874865 0.09527146881177312\n",
      "0.44663366048595565 0.09542708702017634\n",
      "0.4473193556029671 0.09558212324581211\n",
      "0.44800218391053 0.09573657990810915\n",
      "0.4486821573395328 0.09589045941642767\n",
      "0.449359287771213 0.09604376417010133\n",
      "0.45003358703736346 0.09619649655847891\n",
      "0.45070506692053863 0.0963486589609659\n",
      "0.45137373915425916 0.09650025374706585\n",
      "0.4520396154232159 0.0966512832764216\n",
      "0.45270270736347334 0.09680174989885632\n",
      "0.4533630265626718 0.09695165595441434\n",
      "0.45402058456022903 0.09710100377340189\n",
      "0.4546753928475408 0.0972497956764276\n",
      "0.45532746286818093 0.09739803397444285\n",
      "0.4559768060181001 0.09754572096878199\n",
      "0.4566234336458241 0.09769285895120232\n",
      "0.45726735705265126 0.097839450203924\n",
      "0.45790858749284896 0.09798549699966966\n",
      "0.45854713617384923 0.09813100160170402\n",
      "0.4591830142564439 0.09827596626387317\n",
      "0.45981623285497847 0.0984203932306438\n",
      "0.4604468030375455 0.09856428473714227\n",
      "0.46107473582617703 0.09870764300919337\n",
      "0.4617000421970364 0.09885047026335916\n",
      "0.462322733080609 0.09899276870697743\n",
      "0.4629428193618924 0.09913454053820012\n",
      "0.4635603118805857 0.09927578794603154\n",
      "0.464175221431278 0.09941651311036644\n",
      "0.46478755876363603 0.09955671820202791\n",
      "0.4653973345825913 0.09969640538280516\n",
      "0.4660045595485261 0.0998355768054911\n",
      "0.46660924427745903 0.09997423461391976\n",
      "0.4672113993412295 0.10011238094300358\n",
      "0.46781103526768164 0.10025001791877057\n",
      "0.46840816254084733 0.10038714765840125\n",
      "0.4690027916011286 0.10052377227026546\n",
      "0.4695949328454793 0.10065989385395907\n",
      "0.47018459662758566 0.10079551450034047\n",
      "0.47077179325804647 0.1009306362915669\n",
      "0.47135653300455244 0.10106526130113072\n",
      "0.4719388260920647 0.10119939159389542\n",
      "0.4725186827029928 0.10133302922613156\n",
      "0.47309611297737136 0.10146617624555251\n",
      "0.4736711270130369 0.10159883469135007\n",
      "0.47424373486580307 0.10173100659422994\n",
      "0.4748139465496359 0.10186269397644702\n",
      "0.47538177203682763 0.1019938988518406\n",
      "0.4759472212581703 0.10212462322586933\n",
      "0.47651030410312833 0.1022548690956462\n",
      "0.47707103042001076 0.10238463844997314\n",
      "0.4776294100161422 0.1025139332693757\n",
      "0.4781854526580335 0.10264275552613748\n",
      "0.4787391680715519 0.1027711071843344\n",
      "0.4792905659420897 0.10289899019986885\n",
      "0.4798396559147329 0.10302640652050378\n",
      "0.48038644759442894 0.10315335808589647\n",
      "0.4809309505461539 0.10327984682763232\n",
      "0.48147317429507863 0.10340587466925844\n",
      "0.4820131283267343 0.10353144352631709\n",
      "0.48255082208717776 0.103656555306379\n",
      "0.4830862649831554 0.10378121190907656\n",
      "0.48361946638226694 0.10390541522613679\n",
      "0.48415043561312837 0.10402916714141432\n",
      "0.48467918196553417 0.10415246953092411\n",
      "0.48520571469061874 0.10427532426287407\n",
      "0.4857300430010174 0.10439773319769757\n",
      "0.4862521760710266 0.10451969818808579\n",
      "0.4867721230367635 0.10464122107901992\n",
      "0.48728989299632464 0.10476230370780328\n",
      "0.4878054950099445 0.10488294790409322\n",
      "0.4883189381001529 0.10500315548993301\n",
      "0.4888302312519318 0.10512292827978348\n",
      "0.4893393834128717 0.10524226808055455\n",
      "0.4898464034933272 0.10536117669163671\n",
      "0.490351300366572 0.10547965590493229\n",
      "0.49085408286895316 0.10559770750488662\n",
      "0.49135475980004484 0.10571533326851905\n",
      "0.4918533399228013 0.10583253496545388\n",
      "0.49234983196370913 0.10594931435795112\n",
      "0.49284424461293935 0.10606567320093713\n",
      "0.4933365865244983 0.10618161324203516\n",
      "0.4938268663163781 0.10629713622159573\n",
      "0.49431509257070677 0.10641224387272688\n",
      "0.4948012738338972 0.10652693792132434\n",
      "0.495285418616796 0.10664122008610152\n",
      "0.49576753539483137 0.10675509207861944\n",
      "0.49624763260816057 0.10686855560331643\n",
      "0.4967257186618167 0.10698161235753781\n",
      "0.49720180192585484 0.10709426403156543\n",
      "0.4976758907354976 0.107206512308647\n",
      "0.49814799339128013 0.10731835886502544\n",
      "0.49861811815919443 0.10742980536996799\n",
      "0.4990862732708331 0.10754085348579522\n",
      "0.49955246692353256 0.10765150486790996\n",
      "0.5000167072805155 0.10776176116482612\n",
      "0.500479002471033 0.10787162401819732\n",
      "0.5009393605905058 0.10798109506284542\n",
      "0.501397789700665 0.10809017592678902\n",
      "0.5018542978296923 0.1081988682312717\n",
      "0.5023088929723599 0.10830717359079026\n",
      "0.5027615830901693 0.10841509361312278\n",
      "0.5032123761114895 0.10852262989935658\n",
      "0.5036612799316955 0.1086297840439161\n",
      "0.5041083024133051 0.10873655763459053\n",
      "0.5045534513861156 0.10884295225256153\n",
      "0.5049967346473405 0.1089489694724307\n",
      "0.5054381599617447 0.10905461086224691\n",
      "0.5058777350617794 0.10915987798353363\n",
      "0.5063154676477168 0.10926477239131607\n",
      "0.5067513653877843 0.10936929563414821\n",
      "0.5071854359182972 0.10947344925413972\n",
      "0.5076176868437922 0.10957723478698284\n",
      "0.5080481257371589 0.10968065376197898\n",
      "0.508476760139772 0.10978370770206543\n",
      "0.5089035975616227 0.10988639812384177\n",
      "0.5093286454814486 0.10998872653759627\n",
      "0.5097519113468642 0.11009069444733216\n",
      "0.5101734025744903 0.11019230335079377\n",
      "0.5105931265500832 0.1102935547394926\n",
      "0.5110110906286627 0.11039445009873321\n",
      "0.5114273021346405 0.1104949909076391\n",
      "0.5118417683619473 0.11059517863917843\n",
      "0.5122544965741596 0.11069501476018961\n",
      "0.5126654940046262 0.11079450073140681\n",
      "0.513074767856594 0.1108936380074854\n",
      "0.513482325303333 0.1109924280370272\n",
      "0.5138881734882615 0.11109087226260571\n",
      "0.5142923195250698 0.11118897212079115\n",
      "0.5146947704978443 0.11128672904217551\n",
      "0.5150955334611906 0.11138414445139737\n",
      "0.5154946154403561 0.11148121976716671\n",
      "0.5158920234313524 0.11157795640228957\n",
      "0.5162877644010766 0.1116743557636926\n",
      "0.5166818452874328 0.11177041925244757\n",
      "0.5170742729994525 0.1118661482637957\n",
      "0.5174650544174151 0.11196154418717195\n",
      "0.5178541963929671 0.11205660840622916\n",
      "0.5182417057492418 0.11215134229886212\n",
      "0.5186275892809772 0.11224574723723152\n",
      "0.5190118537546349 0.11233982458778786\n",
      "0.5193945059085175 0.11243357571129517\n",
      "0.5197755524528859 0.11252700196285467\n",
      "0.5201550000700754 0.11262010469192836\n",
      "0.520532855414613 0.11271288524236249\n",
      "0.5209091251133321 0.1128053449524109\n",
      "0.5212838157654882 0.11289748515475832\n",
      "0.5216569339428739 0.11298930717654355\n",
      "0.5220284861899326 0.11308081233938252\n",
      "0.5223984790238728 0.11317200195939127\n",
      "0.5227669189347812 0.11326287734720887\n",
      "0.5231338123857358 0.11335343980802018\n",
      "0.5234991658129178 0.11344369064157855\n",
      "0.5238629856257243 0.11353363114222847\n",
      "0.524225278206879 0.11362326259892802\n",
      "0.5245860499125438 0.1137125862952713\n",
      "0.5249453070724288 0.11380160350951078\n",
      "0.5253030559899029 0.11389031551457951\n",
      "0.5256593029421031 0.11397872357811324\n",
      "0.5260140541800435 0.11406682896247251\n",
      "0.5263673159287248 0.11415463292476456\n",
      "0.5267190943872415 0.1142421367168652\n",
      "0.5270693957288904 0.1143293415854406\n",
      "0.527418226101278 0.11441624877196897\n",
      "0.5277655916264267 0.11450285951276212\n",
      "0.5281114984008822 0.114589175038987\n",
      "0.5284559524958189 0.11467519657668707\n",
      "0.5287989599571457 0.11476092534680364\n",
      "0.5291405268056111 0.11484636256519713\n",
      "0.5294806590369079 0.11493150944266818\n",
      "0.5298193626217775 0.1150163671849787\n",
      "0.5301566435061139 0.11510093699287284\n",
      "0.5304925076110666 0.11518522006209794\n",
      "0.5308269608331441 0.11526921758342525\n",
      "0.5311600090443162 0.11535293074267061\n",
      "0.5314916580921162 0.1154363607207152\n",
      "0.5318219137997425 0.11551950869352594\n",
      "0.5321507819661602 0.11560237583217602\n",
      "0.5324782683662013 0.11568496330286522\n",
      "0.5328043787506656 0.11576727226694025\n",
      "0.5331291188464208 0.1158493038809149\n",
      "0.5334524943565018 0.11593105929649015\n",
      "0.53377451096021 0.11601253966057423\n",
      "0.5340951743132122 0.11609374611530252\n",
      "0.5344144900476385 0.11617467979805746\n",
      "0.534732463772181 0.11625534184148831\n",
      "0.5350491010721905 0.11633573337353084\n",
      "0.5353644075097743 0.11641585551742696\n",
      "0.5356783886238927 0.11649570939174422\n",
      "0.5359910499304552 0.11657529611039533\n",
      "0.5363023969224165 0.11665461678265746\n",
      "0.5366124350698722 0.11673367251319156\n",
      "0.5369211698201536 0.1168124644020616\n",
      "0.5372286065979227 0.11689099354475363\n",
      "0.5375347508052667 0.11696926103219492\n",
      "0.5378396078217913 0.11704726795077283\n",
      "0.538143183004715 0.11712501538235381\n",
      "0.5384454816889617 0.11720250440430215\n",
      "0.5387465091872539 0.11727973608949868\n",
      "0.5390462707902047 0.11735671150635955\n",
      "0.5393447717664103 0.11743343171885469\n",
      "0.539642017362541 0.11750989778652636\n",
      "0.5399380128034331 0.11758611076450759\n",
      "0.5402327632921792 0.11766207170354051\n",
      "0.540526274010219 0.11773778164999463\n",
      "0.5408185501174296 0.11781324164588503\n",
      "0.5411095967522146 0.11788845272889048\n",
      "0.541399419031594 0.1179634159323715\n",
      "0.5416880220512932 0.11803813228538833\n",
      "0.5419754108858311 0.11811260281271879\n",
      "0.542261590588609 0.11818682853487615\n",
      "0.5425465661919981 0.11826081046812686\n",
      "0.542830342707427 0.1183345496245082\n",
      "0.5431129251254692 0.11840804701184593\n",
      "0.5433943184159292 0.11848130363377175\n",
      "0.5436745275279299 0.11855432048974082\n",
      "0.5439535573899978 0.1186270985750491\n",
      "0.5442314129101492 0.11869963888085067\n",
      "0.5445080989759754 0.11877194239417495\n",
      "0.5447836204547276 0.1188440100979439\n",
      "0.5450579821934017 0.1189158429709891\n",
      "0.5453311890188227 0.11898744198806875\n",
      "0.5456032457377284 0.11905880811988465\n",
      "0.545874157136853 0.11912994233309905\n",
      "0.5461439279830106 0.11920084559035152\n",
      "0.5464125630231776 0.1192715188502756\n",
      "0.5466800669845762 0.11934196306751559\n",
      "0.5469464445747553 0.119412179192743\n",
      "0.5472117004816734 0.11948216817267321\n",
      "0.5474758393737801 0.1195519309500819\n",
      "0.5477388659000964 0.11962146846382143\n",
      "0.5480007846902963 0.11969078164883716\n",
      "0.5482616003547875 0.11975987143618373\n",
      "0.5485213174847908 0.11982873875304123\n",
      "0.5487799406524206 0.11989738452273137\n",
      "0.5490374744107642 0.11996580966473346\n",
      "0.5492939232939608 0.12003401509470046\n",
      "0.5495492918172806 0.12010200172447492\n",
      "0.5498035844772033 0.12016977046210478\n",
      "0.5500568057514963 0.12023732221185916\n",
      "0.5503089600992922 0.12030465787424416\n",
      "0.5505600519611671 0.12037177834601845\n",
      "0.5508100857592171 0.12043868452020888\n",
      "0.5510590658971355 0.12050537728612604\n",
      "0.5513069967602895 0.12057185752937967\n",
      "0.5515538827157963 0.12063812613189413\n",
      "0.551799728112599 0.12070418397192369\n",
      "0.5520445372815426 0.1207700319240678\n",
      "0.5522883145354486 0.12083567085928631\n",
      "0.5525310641691907 0.12090110164491467\n",
      "0.5527727904597695 0.12096632514467891\n",
      "0.5530134976663861 0.12103134221871073\n",
      "0.553253190030517 0.12109615372356244\n",
      "0.5534918717759875 0.1211607605122219\n",
      "0.5537295471090452 0.12122516343412723\n",
      "0.5539662202184331 0.12128936333518174\n",
      "0.5542018952754627 0.12135336105776853\n",
      "0.5544365764340861 0.12141715744076519\n",
      "0.5546702678309685 0.12148075331955834\n",
      "0.5549029735855604 0.12154414952605821\n",
      "0.5551346978001688 0.12160734688871312\n",
      "0.5553654445600286 0.12167034623252382\n",
      "0.5555952179333739 0.12173314837905787\n",
      "0.5558240219715085 0.12179575414646393\n",
      "0.5560518607088767 0.121858164349486\n",
      "0.556278738163133 0.12192037979947758\n",
      "0.5565046583352123 0.12198240130441575\n",
      "0.5567296252093994 0.12204422966891526\n",
      "0.5569536427533981 0.12210586569424253\n",
      "0.5571767149184005 0.12216731017832953\n",
      "0.5573988456391556 0.12222856391578772\n",
      "0.5576200388340379 0.12228962769792182\n",
      "0.5578402984051148 0.12235050231274357\n",
      "0.5580596282382156 0.12241118854498549\n",
      "0.5582780322029982 0.1224716871761145\n",
      "0.5584955141530168 0.12253199898434544\n",
      "0.5587120779257887 0.12259212474465474\n",
      "0.5589277273428612 0.12265206522879375\n",
      "0.5591424662098782 0.12271182120530227\n",
      "0.5593562983166458 0.12277139343952188\n",
      "0.5595692274371991 0.12283078269360924\n",
      "0.5597812573298668 0.12288998972654933\n",
      "0.5599923917373375 0.1229490152941687\n",
      "0.5602026343867242 0.12300786014914857\n",
      "0.5604119889896294 0.12306652504103793\n",
      "0.5606204592422095 0.1231250107162666\n",
      "0.5608280488252391 0.12318331791815815\n",
      "0.561034761404175 0.1232414473869429\n",
      "0.5612406006292201 0.12329939985977074\n",
      "0.5614455701353869 0.12335717607072398\n",
      "0.5616496735425601 0.1234147767508301\n",
      "0.5618529144555606 0.12347220262807446\n",
      "0.5620552964642074 0.12352945442741296\n",
      "0.56225682314338 0.12358653287078468\n",
      "0.5624574980530813 0.12364343867712439\n",
      "0.5626573247384987 0.12370017256237507\n",
      "0.5628563067300663 0.12375673523950037\n",
      "0.5630544475435258 0.12381312741849698\n",
      "0.5632517506799883 0.12386934980640703\n",
      "0.5634482196259947 0.12392540310733033\n",
      "0.5636438578535763 0.12398128802243664\n",
      "0.5638386688203154 0.12403700524997786\n",
      "0.5640326559694055 0.12409255548530018\n",
      "0.5642258227297111 0.12414793942085617\n",
      "0.564418172515827 0.1242031577462168\n",
      "0.5646097087281382 0.12425821114808347\n",
      "0.5648004347528787 0.12431310031029992\n",
      "0.5649903539621903 0.12436782591386412\n",
      "0.5651794697141819 0.12442238863694018\n",
      "0.565367785352987 0.12447678915487001\n",
      "0.5655553042088226 0.12453102814018521\n",
      "0.5657420295980466 0.12458510626261869\n",
      "0.5659279648232158 0.12463902418911631\n",
      "0.5661131131731431 0.12469278258384849\n",
      "0.5662974779229548 0.12474638210822177\n",
      "0.5664810623341479 0.12479982342089033\n",
      "0.566663869654646 0.1248531071777674\n",
      "0.5668459031188566 0.1249062340320367\n",
      "0.567027165947727 0.12495920463416378\n",
      "0.5672076613488002 0.12501201963190733\n",
      "0.5673873925162709 0.1250646796703305\n",
      "0.567566362631041 0.125117185391812\n",
      "0.5677445748607748 0.12516953743605735\n",
      "0.5679220323599543 0.1252217364401101\n",
      "0.5680987382699338 0.12527378303836267\n",
      "0.5682746957189948 0.12532567786256762\n",
      "0.5684499078224002 0.1253774215418485\n",
      "0.5686243776824486 0.12542901470271078\n",
      "0.5687981083885281 0.12548045796905286\n",
      "0.5689711030171701 0.1255317519621768\n",
      "0.5691433646321031 0.12558289730079922\n",
      "0.5693148962843055 0.12563389460106195\n",
      "0.5694857010120589 0.12568474447654285\n",
      "0.5696557818410009 0.12573544753826646\n",
      "0.5698251417841776 0.12578600439471457\n",
      "0.5699937838420966 0.12583641565183687\n",
      "0.5701617110027782 0.1258866819130614\n",
      "0.5703289262418081 0.12593680377930513\n",
      "0.5704954325223889 0.1259867818489844\n",
      "0.5706612327953916 0.12603661671802527\n",
      "0.5708263299994071 0.1260863089798739\n",
      "0.570990727060797 0.126135859225507\n",
      "0.5711544268937448 0.12618526804344182\n",
      "0.5713174324003065 0.1262345360197467\n",
      "0.571479746470461 0.12628366373805108\n",
      "0.5716413719821601 0.1263326517795557\n",
      "0.5718023118013793 0.12638150072304263\n",
      "0.5719625687821668 0.12643021114488548\n",
      "0.5721221457666936 0.12647878361905934\n",
      "0.572281045585303 0.12652721871715075\n",
      "0.5724392710565596 0.12657551700836764\n",
      "0.572596824987298 0.1266236790595493\n",
      "0.5727537101726726 0.1266717054351761\n",
      "0.5729099293962052 0.1267195966973795\n",
      "0.5730654854298339 0.12676735340595163\n",
      "0.5732203810339612 0.12681497611835515\n",
      "0.5733746189575021 0.1268624653897329\n",
      "0.5735282019379317 0.1269098217729175\n",
      "0.5736811327013331 0.12695704581844117\n",
      "0.5738334139624445 0.12700413807454497\n",
      "0.5739850484247064 0.12705109908718867\n",
      "0.5741360387803093 0.12709792940006004\n",
      "0.5742863877102394 0.12714462955458436\n",
      "0.5744360978843263 0.12719120008993381\n",
      "0.5745851719612884 0.12723764154303693\n",
      "0.5747336125887803 0.12728395444858787\n",
      "0.5748814224034378 0.1273301393390557\n",
      "0.5750286040309242 0.12737619674469372\n",
      "0.5751751600859761 0.12742212719354862\n",
      "0.5753210931724488 0.1274679312114697\n",
      "0.5754664058833613 0.12751360932211803\n",
      "0.5756111008009416 0.12755916204697548\n",
      "0.5757551804966716 0.1276045899053539\n",
      "0.5758986475313321 0.12764989341440405\n",
      "0.5760415044550468 0.12769507308912467\n",
      "0.5761837538073267 0.12774012944237137\n",
      "0.5763253981171149 0.1277850629848656\n",
      "0.57646643990283 0.1278298742252035\n",
      "0.5766068816724099 0.12787456366986477\n",
      "0.5767467259233559 0.12791913182322145\n",
      "0.5768859751427753 0.1279635791875467\n",
      "0.5770246318074256 0.12800790626302352\n",
      "0.5771626983837569 0.12805211354775356\n",
      "0.5773001773279551 0.12809620153776557\n",
      "0.5774370710859845 0.12814017072702422\n",
      "0.5775733820936304 0.1281840216074386\n",
      "0.5777091127765414 0.1282277546688708\n",
      "0.5778442655502716 0.12827137039914435\n",
      "0.5779788428203226 0.1283148692840529\n",
      "0.5781128469821856 0.1283582518073684\n",
      "0.5782462804213824 0.12840151845084974\n",
      "0.5783791455135076 0.12844466969425103\n",
      "0.5785114446242695 0.12848770601532994\n",
      "0.5786431801095316 0.12853062788985603\n",
      "0.5787743543153531 0.128573435791619\n",
      "0.5789049695780298 0.12861613019243698\n",
      "0.5790350282241352 0.12865871156216463\n",
      "0.5791645325705603 0.12870118036870146\n",
      "0.5792934849245546 0.12874353707799985\n",
      "0.5794218875837653 0.1287857821540732\n",
      "0.5795497428362785 0.12882791605900393\n",
      "0.5796770529606576 0.12886993925295168\n",
      "0.5798038202259841 0.12891185219416113\n",
      "0.5799300468918962 0.12895365533897007\n",
      "0.5800557352086289 0.12899534914181734\n",
      "0.5801808874170523 0.12903693405525066\n",
      "0.5803055057487113 0.12907841052993455\n",
      "0.580429592425864 0.12911977901465815\n",
      "0.5805531496615203 0.1291610399563431\n",
      "0.5806761796594806 0.12920219380005118\n",
      "0.580798684614374 0.12924324098899218\n",
      "0.5809206667116967 0.12928418196453145\n",
      "0.5810421281278497 0.12932501716619776\n",
      "0.5811630710301768 0.12936574703169082\n",
      "0.5812834975770022 0.12940637199688892\n",
      "0.581403409917668 0.12944689249585653\n",
      "0.5815228101925721 0.12948730896085178\n",
      "0.5816417005332046 0.12952762182233413\n",
      "0.5817600830621854 0.12956783150897166\n",
      "0.5818779598933009 0.1296079384476487\n",
      "0.5819953331315411 0.1296479430634731\n",
      "0.5821122048731355 0.12968784577978373\n",
      "0.5822285772055906 0.12972764701815784\n",
      "0.5823444522077251 0.12976734719841831\n",
      "0.582459831949707 0.12980694673864102\n",
      "0.5825747184930886 0.1298464460551621\n",
      "0.5826891138908435 0.12988584556258517\n",
      "0.5828030201874015 0.12992514567378854\n",
      "0.5829164394186843 0.12996434679993243\n",
      "0.583029373612141 0.13000344935046607\n",
      "0.5831418247867836 0.13004245373313483\n",
      "0.5832537949532214 0.13008136035398735\n",
      "0.5833652861136968 0.13012016961738254\n",
      "0.5834763002621195 0.13015888192599667\n",
      "0.5835868393841016 0.13019749768083036\n",
      "0.5836969054569919 0.13023601728121548\n",
      "0.5838065004499104 0.1302744411248222\n",
      "0.5839156263237824 0.13031276960766588\n",
      "0.5840242850313725 0.1303510031241139\n",
      "0.5841324785173191 0.13038914206689256\n",
      "0.5842402087181677 0.1304271868270939\n",
      "0.5843474775624048 0.1304651377941825\n",
      "0.5844542869704913 0.13050299535600232\n",
      "0.584560638854896 0.1305407598987833\n",
      "0.5846665351201288 0.1305784318071482\n",
      "0.584771977662774 0.13061601146411925\n",
      "0.584876968371523 0.13065349925112477\n",
      "0.5849815091272075 0.1306908955480059\n",
      "0.5850856018028316 0.1307282007330231\n",
      "0.5851892482636053 0.1307654151828628\n",
      "0.585292450366976 0.13080253927264393\n",
      "0.5853952099626614 0.1308395733759244\n",
      "0.5854975288926814 0.13087651786470764\n",
      "0.5855994089913903 0.13091337310944912\n",
      "0.5857008520855086 0.13095013947906267\n",
      "0.5858018599941547 0.13098681734092701\n",
      "0.5859024345288768 0.13102340706089208\n",
      "0.586002577493684 0.13105990900328537\n",
      "0.586102290685078 0.13109632353091835\n",
      "0.5862015758920844 0.13113265100509267\n",
      "0.5863004348962835 0.13116889178560656\n",
      "0.5863988694718413 0.13120504623076099\n",
      "0.5864968813855407 0.13124111469736593\n",
      "0.5865944723968121 0.1312770975407466\n",
      "0.5866916442577637 0.13131299511474956\n",
      "0.5867883987132122 0.13134880777174898\n",
      "0.5868847375007133 0.13138453586265264\n",
      "0.5869806623505918 0.13142017973690812\n",
      "0.5870761749859713 0.13145573974250882\n",
      "0.5871712771228048 0.1314912162260001\n",
      "0.5872659704699043 0.13152660953248524\n",
      "0.5873602567289701 0.13156192000563138\n",
      "0.5874541375946212 0.13159714798767566\n",
      "0.587547614754424 0.131632293819431\n",
      "0.5876406898889222 0.13166735784029215\n",
      "0.5877333646716657 0.13170234038824152\n",
      "0.5878256407692398 0.1317372417998551\n",
      "0.5879175198412944 0.1317720624103083\n",
      "0.5880090035405724 0.13180680255338179\n",
      "0.5881000935129388 0.13184146256146723\n",
      "0.5881907913974093 0.13187604276557316\n",
      "0.5882810988261786 0.13191054349533068\n",
      "0.588371017424649 0.13194496507899925\n",
      "0.5884605488114587 0.1319793078434723\n",
      "0.5885496945985095 0.13201357211428302\n",
      "0.5886384563909954 0.13204775821560993\n",
      "0.5887268357874303 0.13208186647028258\n",
      "0.5888148343796759 0.13211589719978714\n",
      "0.5889024537529688 0.13214985072427202\n",
      "0.5889896954859489 0.13218372736255335\n",
      "0.5890765611506865 0.13221752743212065\n",
      "0.5891630523127095 0.13225125124914225\n",
      "0.5892491705310308 0.13228489912847083\n",
      "0.5893349173581753 0.13231847138364888\n",
      "0.5894202943402072 0.13235196832691418\n",
      "0.5895053030167562 0.1323853902692052\n",
      "0.5895899449210452 0.13241873752016653\n",
      "0.5896742215799163 0.13245201038815424\n",
      "0.5897581345138576 0.13248520918024126\n",
      "0.5898416852370294 0.1325183342022227\n",
      "0.589924875257291 0.13255138575862122\n",
      "0.5900077060762263 0.13258436415269223\n",
      "0.5900901791891707 0.13261726968642928\n",
      "0.5901722960852364 0.13265010266056923\n",
      "0.5902540582473383 0.1326828633745975\n",
      "0.5903354671522207 0.1327155521267533\n",
      "0.5904165242704819 0.13274816921403473\n",
      "0.5904972310666001 0.1327807149322041\n",
      "0.5905775889989594 0.13281318957579297\n",
      "0.5906575995198744 0.1328455934381072\n",
      "0.5907372640756159 0.13287792681123226\n",
      "0.5908165841064359 0.1329101899860381\n",
      "0.5908955610465928 0.1329423832521843\n",
      "0.5909741963243761 0.13297450689812515\n",
      "0.5910524913621316 0.1330065612111146\n",
      "0.5911304475762855 0.13303854647721125\n",
      "0.59120806637737 0.13307046298128336\n",
      "0.5912853491700469 0.13310231100701378\n",
      "0.5913622973531326 0.13313409083690492\n",
      "0.591438912319622 0.1331658027522836\n",
      "0.591515195456713 0.13319744703330602\n",
      "0.591591148145831 0.13322902395896255\n",
      "0.5916667717626519 0.13326053380708267\n",
      "0.5917420676771271 0.1332919768543397\n",
      "0.5918170372535065 0.1333233533762557\n",
      "0.5918916818503629 0.13335466364720622\n",
      "0.5919660028206151 0.13338590794042507\n",
      "0.5920400015115517 0.13341708652800907\n",
      "0.5921136792648545 0.1334481996809228\n",
      "0.5921870374166217 0.13347924766900332\n",
      "0.5922600772973915 0.1335102307609648\n",
      "0.5923328002321646 0.13354114922440327\n",
      "0.5924052075404279 0.13357200332580124\n",
      "0.592477300536177 0.13360279333053232\n",
      "0.5925490805279393 0.13363351950286584\n",
      "0.5926205488187967 0.13366418210597147\n",
      "0.5926917067064081 0.1336947814019238\n",
      "0.5927625554830324 0.13372531765170687\n",
      "0.5928330964355503 0.13375579111521868\n",
      "0.5929033308454873 0.13378620205127575\n",
      "0.5929732599890357 0.1338165507176177\n",
      "0.5930428851370769 0.13384683737091152\n",
      "0.5931122075552033 0.13387706226675625\n",
      "0.5931812285037406 0.1339072256596873\n",
      "0.5932499492377693 0.13393732780318093\n",
      "0.5933183710071471 0.13396736894965866\n",
      "0.5933864950565303 0.1339973493504916\n",
      "0.5934543226253952 0.13402726925600483\n",
      "0.5935218549480603 0.13405712891548188\n",
      "0.5935890932537071 0.13408692857716892\n",
      "0.5936560387664019 0.13411666848827908\n",
      "0.5937226927051171 0.13414634889499688\n",
      "0.5937890562837521 0.13417597004248236\n",
      "0.5938551307111546 0.13420553217487544\n",
      "0.5939209171911415 0.1342350355353001\n",
      "0.5939864169225201 0.13426448036586872\n",
      "0.5940516310991087 0.1342938669076861\n",
      "0.5941165609097576 0.13432319540085386\n",
      "0.5941812075383693 0.13435246608447446\n",
      "0.5942455721639197 0.13438167919665545\n",
      "0.5943096559604781 0.13441083497451356\n",
      "0.594373460097228 0.13443993365417883\n",
      "0.5944369857384872 0.13446897547079878\n",
      "0.5945002340437281 0.13449796065854241\n",
      "0.5945632061675977 0.1345268894506043\n",
      "0.5946259032599382 0.13455576207920866\n",
      "0.5946883264658066 0.13458457877561344\n",
      "0.5947504769254943 0.13461333977011425\n",
      "0.5948123557745477 0.1346420452920484\n",
      "0.5948739641437873 0.13467069556979894\n",
      "0.5949353031593277 0.1346992908307985\n",
      "0.5949963739425972 0.13472783130153346\n",
      "0.595057177610357 0.13475631720754763\n",
      "0.595117715274721 0.1347847487734464\n",
      "0.5951779880431748 0.1348131262229005\n",
      "0.5952379970185951 0.13484144977864995\n",
      "0.5952977432992693 0.1348697196625079\n",
      "0.5953572279789137 0.13489793609536457\n",
      "0.5954164521466931 0.13492609929719093\n",
      "0.59547541688724 0.1349542094870427\n",
      "0.5955341232806729 0.13498226688306408\n",
      "0.5955925724026152 0.1350102717024915\n",
      "0.5956507653242141 0.13503822416165748\n",
      "0.5957087031121594 0.13506612447599434\n",
      "0.5957663868287014 0.135093972860038\n",
      "0.59582381753167 0.1351217695274316\n",
      "0.5958809962744929 0.13514951469092934\n",
      "0.5959379241062136 0.13517720856240012\n",
      "0.5959946020715102 0.13520485135283125\n",
      "0.5960510312107133 0.13523244327233205\n",
      "0.596107212559824 0.1352599845301376\n",
      "0.5961631471505321 0.13528747533461227\n",
      "0.5962188360102337 0.1353149158932535\n",
      "0.5962742801620496 0.13534230641269523\n",
      "0.5963294806248427 0.13536964709871163\n",
      "0.5963844384132357 0.1353969381562206\n",
      "0.5964391545376293 0.13542417978928734\n",
      "0.5964936300042187 0.13545137220112793\n",
      "0.5965478658150124 0.1354785155941129\n",
      "0.5966018629678485 0.13550561016977064\n",
      "0.5966556224564127 0.13553265612879098\n",
      "0.5967091452702554 0.13555965367102865\n",
      "0.596762432394809 0.13558660299550682\n",
      "0.5968154848114048 0.13561350430042043\n",
      "0.5968683034972903 0.1356403577831398\n",
      "0.596920889425646 0.13566716364021392\n",
      "0.5969732435656027 0.13569392206737393\n",
      "0.5970253668822578 0.13572063325953654\n",
      "0.5970772603366926 0.1357472974108074\n",
      "0.5971289248859887 0.13577391471448447\n",
      "0.5971803614832446 0.13580048536306136\n",
      "0.5972315710775926 0.1358270095482307\n",
      "0.5972825546142151 0.13585348746088757\n",
      "0.597333313034361 0.1358799192911326\n",
      "0.5973838472753621 0.13590630522827546\n",
      "0.5974341582706495 0.13593264546083808\n",
      "0.5974842469497696 0.13595894017655796\n",
      "0.5975341142384007 0.13598518956239142\n",
      "0.5975837610583686 0.1360113938045168\n",
      "0.597633188327663 0.13603755308833776\n",
      "0.5976823969604531 0.13606366759848654\n",
      "0.5977313878671039 0.13608973751882705\n",
      "0.5977801619541918 0.13611576303245818\n",
      "0.5978287201245205 0.1361417443217169\n",
      "0.5978770632771364 0.13616768156818151\n",
      "0.5979251923073448 0.13619357495267473\n",
      "0.5979731081067247 0.1362194246552669\n",
      "0.598020811563145 0.13624523085527904\n",
      "0.5980683035607797 0.13627099373128604\n",
      "0.598115584980123 0.13629671346111974\n",
      "0.598162656698005 0.13632239022187198\n",
      "0.5982095195876068 0.13634802418989778\n",
      "0.5982561745184759 0.13637361554081828\n",
      "0.5983026223565407 0.1363991644495239\n",
      "0.5983488639641263 0.13642467109017734\n",
      "0.5983949001999691 0.13645013563621658\n",
      "0.5984407319192316 0.13647555826035793\n",
      "0.5984863599735178 0.13650093913459904\n",
      "0.5985317852108876 0.1365262784302219\n",
      "0.5985770084758713 0.13655157631779571\n",
      "0.5986220306094849 0.13657683296718004\n",
      "0.5986668524492447 0.13660204854752758\n",
      "0.5987114748291811 0.13662722322728726\n",
      "0.598755898579854 0.13665235717420704\n",
      "0.5988001245283666 0.1366774505553369\n",
      "0.5988441534983803 0.1367025035370317\n",
      "0.5988879863101285 0.13672751628495416\n",
      "0.5989316237804315 0.13675248896407766\n",
      "0.59897506672271 0.13677742173868906\n",
      "0.5990183159469996 0.13680231477239174\n",
      "0.5990613722599651 0.13682716822810823\n",
      "0.5991042364649142 0.1368519822680832\n",
      "0.5991469093618115 0.13687675705388622\n",
      "0.5991893917472926 0.13690149274641455\n",
      "0.5992316844146777 0.136926189505896\n",
      "0.5992737881539857 0.13695084749189165\n",
      "0.5993157037519476 0.13697546686329864\n",
      "0.5993574319920206 0.137000047778353\n",
      "0.5993989736544013 0.1370245903946323\n",
      "0.5994403295160394 0.13704909486905842\n",
      "0.5994815003506514 0.13707356135790036\n",
      "0.5995224869287339 0.13709799001677683\n",
      "0.5995632900175769 0.13712238100065907\n",
      "0.5996039103812775 0.13714673446387346\n",
      "0.5996443487807527 0.13717105056010423\n",
      "0.5996846059737531 0.13719532944239618\n",
      "0.5997246827148756 0.13721957126315726\n",
      "0.599764579755577 0.1372437761741613\n",
      "0.5998042978441868 0.1372679443265506\n",
      "0.5998438377259202 0.1372920758708385\n",
      "0.5998832001428913 0.13731617095691218\n",
      "0.5999223858341256 0.13734022973403506\n",
      "0.5999613955355733 0.13736425235084954\n",
      "0.6000002299801217 0.13738823895537947\n",
      "0.6000388898976083 0.13741218969503285\n",
      "0.6000773760148334 0.13743610471660433\n",
      "0.6001156890555721 0.13745998416627772\n",
      "0.6001538297405882 0.1374838281896286\n",
      "0.6001917987876455 0.13750763693162676\n",
      "0.600229596911521 0.1375314105366389\n",
      "0.6002672248240171 0.13755514914843092\n",
      "0.6003046832339737 0.1375788529101706\n",
      "0.6003419728472811 0.13760252196442996\n",
      "0.6003790943668919 0.13762615645318782\n",
      "0.6004160484928331 0.13764975651783223\n",
      "0.600452835922219 0.13767332229916296\n",
      "0.6004894573492622 0.13769685393739392\n",
      "0.6005259134652866 0.1377203515721556\n",
      "0.6005259134652866 0.1377203515721556\n"
     ]
    }
   ],
   "source": [
    "# Initially let m = 0 and c = 0. Let L be our learning rate. \n",
    "#This controls how much the value of m changes with each step. L could be a small value like 0.0001 for good accuracy.\n",
    "m = 0\n",
    "c = 0\n",
    "L = 0.0001  # The learning Rate\n",
    "epochs = 1000  # The number of iterations to perform gradient descent\n",
    "n = float(len(X)) # Number of elements in X\n",
    "\n",
    "# Performing Gradient Descent \n",
    "# Calculate the partial derivative of the loss function with respect to m, \n",
    "# and plug in the current values of x, y, m and c in it to obtain the derivative value D.\n",
    "# finally update the current value of m and c \n",
    "for i in range(epochs): \n",
    "    Y_pred = m*X + c  # The current predicted value of Y\n",
    "    D_m = (-2/n) * sum(X * (Y - Y_pred))  # Derivative wrt m\n",
    "    D_c = (-2/n) * sum(Y - Y_pred)  # Derivative wrt c\n",
    "    m = m - L * D_m  # Update m\n",
    "    c = c - L * D_c  # Update c\n",
    "    print(m,c)\n",
    "    \n",
    "print (m, c)"
   ]
  },
  {
   "cell_type": "code",
   "execution_count": null,
   "metadata": {},
   "outputs": [],
   "source": []
  },
  {
   "cell_type": "code",
   "execution_count": 66,
   "metadata": {},
   "outputs": [
    {
     "data": {
      "text/plain": [
       "array([0.73824627, 1.33877218, 1.93929809, 2.53982401, 3.14034992,\n",
       "       3.74087583, 4.34140175])"
      ]
     },
     "execution_count": 66,
     "metadata": {},
     "output_type": "execute_result"
    }
   ],
   "source": [
    "# Draw the regression line\n",
    "Y_pred = m*X + c\n",
    "\n",
    "Y_pred"
   ]
  },
  {
   "cell_type": "code",
   "execution_count": 67,
   "metadata": {},
   "outputs": [
    {
     "data": {
      "text/plain": [
       "0.0908000351640552"
      ]
     },
     "execution_count": 67,
     "metadata": {},
     "output_type": "execute_result"
    }
   ],
   "source": [
    "sum((Y_pred - Y)**2) / len(X)"
   ]
  },
  {
   "cell_type": "code",
   "execution_count": 68,
   "metadata": {},
   "outputs": [
    {
     "data": {
      "image/png": "[encoded data removed]",
      "text/plain": [
       "<Figure size 432x288 with 1 Axes>"
      ]
     },
     "metadata": {
      "needs_background": "light"
     },
     "output_type": "display_data"
    }
   ],
   "source": [
    "plt.scatter(X, Y) \n",
    "plt.plot([min(X), max(X)], [min(Y_pred), max(Y_pred)], color='red')  # regression line\n",
    "plt.show()"
   ]
  },
  {
   "cell_type": "code",
   "execution_count": null,
   "metadata": {},
   "outputs": [],
   "source": []
  },
  {
   "cell_type": "code",
   "execution_count": null,
   "metadata": {},
   "outputs": [],
   "source": []
  },
  {
   "cell_type": "markdown",
   "metadata": {},
   "source": [
    "### Prediction on New Data"
   ]
  },
  {
   "cell_type": "code",
   "execution_count": 70,
   "metadata": {},
   "outputs": [
    {
     "data": {
      "text/plain": [
       "3.140349918898589"
      ]
     },
     "execution_count": 70,
     "metadata": {},
     "output_type": "execute_result"
    }
   ],
   "source": [
    "#If student study 5 hours a day, then its GPA will be\n",
    "Y_pred = m*5 + c\n",
    "\n",
    "Y_pred"
   ]
  },
  {
   "cell_type": "code",
   "execution_count": null,
   "metadata": {},
   "outputs": [],
   "source": []
  },
  {
   "cell_type": "code",
   "execution_count": null,
   "metadata": {},
   "outputs": [],
   "source": []
  },
  {
   "cell_type": "code",
   "execution_count": 71,
   "metadata": {},
   "outputs": [],
   "source": [
    "#sns.get_dataset_names()"
   ]
  },
  {
   "cell_type": "code",
   "execution_count": null,
   "metadata": {},
   "outputs": [],
   "source": []
  }
 ],
 "metadata": {
  "kernelspec": {
   "display_name": "Python 3 (ipykernel)",
   "language": "python",
   "name": "python3"
  },
  "language_info": {
   "codemirror_mode": {
    "name": "ipython",
    "version": 3
   },
   "file_extension": ".py",
   "mimetype": "text/x-python",
   "name": "python",
   "nbconvert_exporter": "python",
   "pygments_lexer": "ipython3",
   "version": "3.8.10"
  },
  "vscode": {
   "interpreter": {
    "hash": "916dbcbb3f70747c44a77c7bcd40155683ae19c65e1c03b4aa3499c5328201f1"
   }
  }
 },
 "nbformat": 4,
 "nbformat_minor": 2
}
